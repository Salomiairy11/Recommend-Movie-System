{
 "cells": [
  {
   "cell_type": "code",
   "execution_count": 1,
   "metadata": {},
   "outputs": [],
   "source": [
    "import pandas as pd\n",
    "import numpy as np"
   ]
  },
  {
   "cell_type": "code",
   "execution_count": 2,
   "metadata": {},
   "outputs": [
    {
     "ename": "FileNotFoundError",
     "evalue": "[Errno 2] No such file or directory: 'tmdb_5000_movies.csv'",
     "output_type": "error",
     "traceback": [
      "\u001b[31m---------------------------------------------------------------------------\u001b[39m",
      "\u001b[31mFileNotFoundError\u001b[39m                         Traceback (most recent call last)",
      "\u001b[36mCell\u001b[39m\u001b[36m \u001b[39m\u001b[32mIn[2]\u001b[39m\u001b[32m, line 1\u001b[39m\n\u001b[32m----> \u001b[39m\u001b[32m1\u001b[39m movies = \u001b[43mpd\u001b[49m\u001b[43m.\u001b[49m\u001b[43mread_csv\u001b[49m\u001b[43m(\u001b[49m\u001b[33;43mr\u001b[39;49m\u001b[33;43m'\u001b[39;49m\u001b[33;43mtmdb_5000_movies.csv\u001b[39;49m\u001b[33;43m'\u001b[39;49m\u001b[43m)\u001b[49m\n\u001b[32m      2\u001b[39m credits = pd.read_csv(\u001b[33mr\u001b[39m\u001b[33m'\u001b[39m\u001b[33mtmdb_5000_credits.csv\u001b[39m\u001b[33m'\u001b[39m)\n",
      "\u001b[36mFile \u001b[39m\u001b[32mc:\\Users\\DELL\\AppData\\Local\\Programs\\Python\\Python312\\Lib\\site-packages\\pandas\\io\\parsers\\readers.py:1026\u001b[39m, in \u001b[36mread_csv\u001b[39m\u001b[34m(filepath_or_buffer, sep, delimiter, header, names, index_col, usecols, dtype, engine, converters, true_values, false_values, skipinitialspace, skiprows, skipfooter, nrows, na_values, keep_default_na, na_filter, verbose, skip_blank_lines, parse_dates, infer_datetime_format, keep_date_col, date_parser, date_format, dayfirst, cache_dates, iterator, chunksize, compression, thousands, decimal, lineterminator, quotechar, quoting, doublequote, escapechar, comment, encoding, encoding_errors, dialect, on_bad_lines, delim_whitespace, low_memory, memory_map, float_precision, storage_options, dtype_backend)\u001b[39m\n\u001b[32m   1013\u001b[39m kwds_defaults = _refine_defaults_read(\n\u001b[32m   1014\u001b[39m     dialect,\n\u001b[32m   1015\u001b[39m     delimiter,\n\u001b[32m   (...)\u001b[39m\u001b[32m   1022\u001b[39m     dtype_backend=dtype_backend,\n\u001b[32m   1023\u001b[39m )\n\u001b[32m   1024\u001b[39m kwds.update(kwds_defaults)\n\u001b[32m-> \u001b[39m\u001b[32m1026\u001b[39m \u001b[38;5;28;01mreturn\u001b[39;00m \u001b[43m_read\u001b[49m\u001b[43m(\u001b[49m\u001b[43mfilepath_or_buffer\u001b[49m\u001b[43m,\u001b[49m\u001b[43m \u001b[49m\u001b[43mkwds\u001b[49m\u001b[43m)\u001b[49m\n",
      "\u001b[36mFile \u001b[39m\u001b[32mc:\\Users\\DELL\\AppData\\Local\\Programs\\Python\\Python312\\Lib\\site-packages\\pandas\\io\\parsers\\readers.py:620\u001b[39m, in \u001b[36m_read\u001b[39m\u001b[34m(filepath_or_buffer, kwds)\u001b[39m\n\u001b[32m    617\u001b[39m _validate_names(kwds.get(\u001b[33m\"\u001b[39m\u001b[33mnames\u001b[39m\u001b[33m\"\u001b[39m, \u001b[38;5;28;01mNone\u001b[39;00m))\n\u001b[32m    619\u001b[39m \u001b[38;5;66;03m# Create the parser.\u001b[39;00m\n\u001b[32m--> \u001b[39m\u001b[32m620\u001b[39m parser = \u001b[43mTextFileReader\u001b[49m\u001b[43m(\u001b[49m\u001b[43mfilepath_or_buffer\u001b[49m\u001b[43m,\u001b[49m\u001b[43m \u001b[49m\u001b[43m*\u001b[49m\u001b[43m*\u001b[49m\u001b[43mkwds\u001b[49m\u001b[43m)\u001b[49m\n\u001b[32m    622\u001b[39m \u001b[38;5;28;01mif\u001b[39;00m chunksize \u001b[38;5;129;01mor\u001b[39;00m iterator:\n\u001b[32m    623\u001b[39m     \u001b[38;5;28;01mreturn\u001b[39;00m parser\n",
      "\u001b[36mFile \u001b[39m\u001b[32mc:\\Users\\DELL\\AppData\\Local\\Programs\\Python\\Python312\\Lib\\site-packages\\pandas\\io\\parsers\\readers.py:1620\u001b[39m, in \u001b[36mTextFileReader.__init__\u001b[39m\u001b[34m(self, f, engine, **kwds)\u001b[39m\n\u001b[32m   1617\u001b[39m     \u001b[38;5;28mself\u001b[39m.options[\u001b[33m\"\u001b[39m\u001b[33mhas_index_names\u001b[39m\u001b[33m\"\u001b[39m] = kwds[\u001b[33m\"\u001b[39m\u001b[33mhas_index_names\u001b[39m\u001b[33m\"\u001b[39m]\n\u001b[32m   1619\u001b[39m \u001b[38;5;28mself\u001b[39m.handles: IOHandles | \u001b[38;5;28;01mNone\u001b[39;00m = \u001b[38;5;28;01mNone\u001b[39;00m\n\u001b[32m-> \u001b[39m\u001b[32m1620\u001b[39m \u001b[38;5;28mself\u001b[39m._engine = \u001b[38;5;28;43mself\u001b[39;49m\u001b[43m.\u001b[49m\u001b[43m_make_engine\u001b[49m\u001b[43m(\u001b[49m\u001b[43mf\u001b[49m\u001b[43m,\u001b[49m\u001b[43m \u001b[49m\u001b[38;5;28;43mself\u001b[39;49m\u001b[43m.\u001b[49m\u001b[43mengine\u001b[49m\u001b[43m)\u001b[49m\n",
      "\u001b[36mFile \u001b[39m\u001b[32mc:\\Users\\DELL\\AppData\\Local\\Programs\\Python\\Python312\\Lib\\site-packages\\pandas\\io\\parsers\\readers.py:1880\u001b[39m, in \u001b[36mTextFileReader._make_engine\u001b[39m\u001b[34m(self, f, engine)\u001b[39m\n\u001b[32m   1878\u001b[39m     \u001b[38;5;28;01mif\u001b[39;00m \u001b[33m\"\u001b[39m\u001b[33mb\u001b[39m\u001b[33m\"\u001b[39m \u001b[38;5;129;01mnot\u001b[39;00m \u001b[38;5;129;01min\u001b[39;00m mode:\n\u001b[32m   1879\u001b[39m         mode += \u001b[33m\"\u001b[39m\u001b[33mb\u001b[39m\u001b[33m\"\u001b[39m\n\u001b[32m-> \u001b[39m\u001b[32m1880\u001b[39m \u001b[38;5;28mself\u001b[39m.handles = \u001b[43mget_handle\u001b[49m\u001b[43m(\u001b[49m\n\u001b[32m   1881\u001b[39m \u001b[43m    \u001b[49m\u001b[43mf\u001b[49m\u001b[43m,\u001b[49m\n\u001b[32m   1882\u001b[39m \u001b[43m    \u001b[49m\u001b[43mmode\u001b[49m\u001b[43m,\u001b[49m\n\u001b[32m   1883\u001b[39m \u001b[43m    \u001b[49m\u001b[43mencoding\u001b[49m\u001b[43m=\u001b[49m\u001b[38;5;28;43mself\u001b[39;49m\u001b[43m.\u001b[49m\u001b[43moptions\u001b[49m\u001b[43m.\u001b[49m\u001b[43mget\u001b[49m\u001b[43m(\u001b[49m\u001b[33;43m\"\u001b[39;49m\u001b[33;43mencoding\u001b[39;49m\u001b[33;43m\"\u001b[39;49m\u001b[43m,\u001b[49m\u001b[43m \u001b[49m\u001b[38;5;28;43;01mNone\u001b[39;49;00m\u001b[43m)\u001b[49m\u001b[43m,\u001b[49m\n\u001b[32m   1884\u001b[39m \u001b[43m    \u001b[49m\u001b[43mcompression\u001b[49m\u001b[43m=\u001b[49m\u001b[38;5;28;43mself\u001b[39;49m\u001b[43m.\u001b[49m\u001b[43moptions\u001b[49m\u001b[43m.\u001b[49m\u001b[43mget\u001b[49m\u001b[43m(\u001b[49m\u001b[33;43m\"\u001b[39;49m\u001b[33;43mcompression\u001b[39;49m\u001b[33;43m\"\u001b[39;49m\u001b[43m,\u001b[49m\u001b[43m \u001b[49m\u001b[38;5;28;43;01mNone\u001b[39;49;00m\u001b[43m)\u001b[49m\u001b[43m,\u001b[49m\n\u001b[32m   1885\u001b[39m \u001b[43m    \u001b[49m\u001b[43mmemory_map\u001b[49m\u001b[43m=\u001b[49m\u001b[38;5;28;43mself\u001b[39;49m\u001b[43m.\u001b[49m\u001b[43moptions\u001b[49m\u001b[43m.\u001b[49m\u001b[43mget\u001b[49m\u001b[43m(\u001b[49m\u001b[33;43m\"\u001b[39;49m\u001b[33;43mmemory_map\u001b[39;49m\u001b[33;43m\"\u001b[39;49m\u001b[43m,\u001b[49m\u001b[43m \u001b[49m\u001b[38;5;28;43;01mFalse\u001b[39;49;00m\u001b[43m)\u001b[49m\u001b[43m,\u001b[49m\n\u001b[32m   1886\u001b[39m \u001b[43m    \u001b[49m\u001b[43mis_text\u001b[49m\u001b[43m=\u001b[49m\u001b[43mis_text\u001b[49m\u001b[43m,\u001b[49m\n\u001b[32m   1887\u001b[39m \u001b[43m    \u001b[49m\u001b[43merrors\u001b[49m\u001b[43m=\u001b[49m\u001b[38;5;28;43mself\u001b[39;49m\u001b[43m.\u001b[49m\u001b[43moptions\u001b[49m\u001b[43m.\u001b[49m\u001b[43mget\u001b[49m\u001b[43m(\u001b[49m\u001b[33;43m\"\u001b[39;49m\u001b[33;43mencoding_errors\u001b[39;49m\u001b[33;43m\"\u001b[39;49m\u001b[43m,\u001b[49m\u001b[43m \u001b[49m\u001b[33;43m\"\u001b[39;49m\u001b[33;43mstrict\u001b[39;49m\u001b[33;43m\"\u001b[39;49m\u001b[43m)\u001b[49m\u001b[43m,\u001b[49m\n\u001b[32m   1888\u001b[39m \u001b[43m    \u001b[49m\u001b[43mstorage_options\u001b[49m\u001b[43m=\u001b[49m\u001b[38;5;28;43mself\u001b[39;49m\u001b[43m.\u001b[49m\u001b[43moptions\u001b[49m\u001b[43m.\u001b[49m\u001b[43mget\u001b[49m\u001b[43m(\u001b[49m\u001b[33;43m\"\u001b[39;49m\u001b[33;43mstorage_options\u001b[39;49m\u001b[33;43m\"\u001b[39;49m\u001b[43m,\u001b[49m\u001b[43m \u001b[49m\u001b[38;5;28;43;01mNone\u001b[39;49;00m\u001b[43m)\u001b[49m\u001b[43m,\u001b[49m\n\u001b[32m   1889\u001b[39m \u001b[43m\u001b[49m\u001b[43m)\u001b[49m\n\u001b[32m   1890\u001b[39m \u001b[38;5;28;01massert\u001b[39;00m \u001b[38;5;28mself\u001b[39m.handles \u001b[38;5;129;01mis\u001b[39;00m \u001b[38;5;129;01mnot\u001b[39;00m \u001b[38;5;28;01mNone\u001b[39;00m\n\u001b[32m   1891\u001b[39m f = \u001b[38;5;28mself\u001b[39m.handles.handle\n",
      "\u001b[36mFile \u001b[39m\u001b[32mc:\\Users\\DELL\\AppData\\Local\\Programs\\Python\\Python312\\Lib\\site-packages\\pandas\\io\\common.py:873\u001b[39m, in \u001b[36mget_handle\u001b[39m\u001b[34m(path_or_buf, mode, encoding, compression, memory_map, is_text, errors, storage_options)\u001b[39m\n\u001b[32m    868\u001b[39m \u001b[38;5;28;01melif\u001b[39;00m \u001b[38;5;28misinstance\u001b[39m(handle, \u001b[38;5;28mstr\u001b[39m):\n\u001b[32m    869\u001b[39m     \u001b[38;5;66;03m# Check whether the filename is to be opened in binary mode.\u001b[39;00m\n\u001b[32m    870\u001b[39m     \u001b[38;5;66;03m# Binary mode does not support 'encoding' and 'newline'.\u001b[39;00m\n\u001b[32m    871\u001b[39m     \u001b[38;5;28;01mif\u001b[39;00m ioargs.encoding \u001b[38;5;129;01mand\u001b[39;00m \u001b[33m\"\u001b[39m\u001b[33mb\u001b[39m\u001b[33m\"\u001b[39m \u001b[38;5;129;01mnot\u001b[39;00m \u001b[38;5;129;01min\u001b[39;00m ioargs.mode:\n\u001b[32m    872\u001b[39m         \u001b[38;5;66;03m# Encoding\u001b[39;00m\n\u001b[32m--> \u001b[39m\u001b[32m873\u001b[39m         handle = \u001b[38;5;28;43mopen\u001b[39;49m\u001b[43m(\u001b[49m\n\u001b[32m    874\u001b[39m \u001b[43m            \u001b[49m\u001b[43mhandle\u001b[49m\u001b[43m,\u001b[49m\n\u001b[32m    875\u001b[39m \u001b[43m            \u001b[49m\u001b[43mioargs\u001b[49m\u001b[43m.\u001b[49m\u001b[43mmode\u001b[49m\u001b[43m,\u001b[49m\n\u001b[32m    876\u001b[39m \u001b[43m            \u001b[49m\u001b[43mencoding\u001b[49m\u001b[43m=\u001b[49m\u001b[43mioargs\u001b[49m\u001b[43m.\u001b[49m\u001b[43mencoding\u001b[49m\u001b[43m,\u001b[49m\n\u001b[32m    877\u001b[39m \u001b[43m            \u001b[49m\u001b[43merrors\u001b[49m\u001b[43m=\u001b[49m\u001b[43merrors\u001b[49m\u001b[43m,\u001b[49m\n\u001b[32m    878\u001b[39m \u001b[43m            \u001b[49m\u001b[43mnewline\u001b[49m\u001b[43m=\u001b[49m\u001b[33;43m\"\u001b[39;49m\u001b[33;43m\"\u001b[39;49m\u001b[43m,\u001b[49m\n\u001b[32m    879\u001b[39m \u001b[43m        \u001b[49m\u001b[43m)\u001b[49m\n\u001b[32m    880\u001b[39m     \u001b[38;5;28;01melse\u001b[39;00m:\n\u001b[32m    881\u001b[39m         \u001b[38;5;66;03m# Binary mode\u001b[39;00m\n\u001b[32m    882\u001b[39m         handle = \u001b[38;5;28mopen\u001b[39m(handle, ioargs.mode)\n",
      "\u001b[31mFileNotFoundError\u001b[39m: [Errno 2] No such file or directory: 'tmdb_5000_movies.csv'"
     ]
    }
   ],
   "source": [
    "movies = pd.read_csv(r'tmdb_5000_movies.csv')\n",
    "credits = pd.read_csv(r'tmdb_5000_credits.csv')"
   ]
  },
  {
   "cell_type": "code",
   "execution_count": 12,
   "metadata": {},
   "outputs": [],
   "source": [
    "data = movies.merge(credits, on = 'title')"
   ]
  },
  {
   "cell_type": "code",
   "execution_count": 13,
   "metadata": {},
   "outputs": [
    {
     "name": "stdout",
     "output_type": "stream",
     "text": [
      "<class 'pandas.core.frame.DataFrame'>\n",
      "RangeIndex: 4809 entries, 0 to 4808\n",
      "Data columns (total 23 columns):\n",
      " #   Column                Non-Null Count  Dtype  \n",
      "---  ------                --------------  -----  \n",
      " 0   budget                4809 non-null   int64  \n",
      " 1   genres                4809 non-null   object \n",
      " 2   homepage              1713 non-null   object \n",
      " 3   id                    4809 non-null   int64  \n",
      " 4   keywords              4809 non-null   object \n",
      " 5   original_language     4809 non-null   object \n",
      " 6   original_title        4809 non-null   object \n",
      " 7   overview              4806 non-null   object \n",
      " 8   popularity            4809 non-null   float64\n",
      " 9   production_companies  4809 non-null   object \n",
      " 10  production_countries  4809 non-null   object \n",
      " 11  release_date          4808 non-null   object \n",
      " 12  revenue               4809 non-null   int64  \n",
      " 13  runtime               4807 non-null   float64\n",
      " 14  spoken_languages      4809 non-null   object \n",
      " 15  status                4809 non-null   object \n",
      " 16  tagline               3965 non-null   object \n",
      " 17  title                 4809 non-null   object \n",
      " 18  vote_average          4809 non-null   float64\n",
      " 19  vote_count            4809 non-null   int64  \n",
      " 20  movie_id              4809 non-null   int64  \n",
      " 21  cast                  4809 non-null   object \n",
      " 22  crew                  4809 non-null   object \n",
      "dtypes: float64(3), int64(5), object(15)\n",
      "memory usage: 864.2+ KB\n"
     ]
    }
   ],
   "source": [
    "data.info()"
   ]
  },
  {
   "cell_type": "code",
   "execution_count": 14,
   "metadata": {},
   "outputs": [
    {
     "data": {
      "text/plain": [
       "Index(['budget', 'genres', 'homepage', 'id', 'keywords', 'original_language',\n",
       "       'original_title', 'overview', 'popularity', 'production_companies',\n",
       "       'production_countries', 'release_date', 'revenue', 'runtime',\n",
       "       'spoken_languages', 'status', 'tagline', 'title', 'vote_average',\n",
       "       'vote_count', 'movie_id', 'cast', 'crew'],\n",
       "      dtype='object')"
      ]
     },
     "execution_count": 14,
     "metadata": {},
     "output_type": "execute_result"
    }
   ],
   "source": [
    "data.columns"
   ]
  },
  {
   "cell_type": "code",
   "execution_count": 15,
   "metadata": {},
   "outputs": [],
   "source": [
    "keep=['genres','keywords','overview','title','cast','crew']\n",
    "data=data[keep]"
   ]
  },
  {
   "cell_type": "code",
   "execution_count": 16,
   "metadata": {},
   "outputs": [
    {
     "data": {
      "text/html": [
       "<div>\n",
       "<style scoped>\n",
       "    .dataframe tbody tr th:only-of-type {\n",
       "        vertical-align: middle;\n",
       "    }\n",
       "\n",
       "    .dataframe tbody tr th {\n",
       "        vertical-align: top;\n",
       "    }\n",
       "\n",
       "    .dataframe thead th {\n",
       "        text-align: right;\n",
       "    }\n",
       "</style>\n",
       "<table border=\"1\" class=\"dataframe\">\n",
       "  <thead>\n",
       "    <tr style=\"text-align: right;\">\n",
       "      <th></th>\n",
       "      <th>genres</th>\n",
       "      <th>keywords</th>\n",
       "      <th>overview</th>\n",
       "      <th>title</th>\n",
       "      <th>cast</th>\n",
       "      <th>crew</th>\n",
       "    </tr>\n",
       "  </thead>\n",
       "  <tbody>\n",
       "    <tr>\n",
       "      <th>0</th>\n",
       "      <td>[{\"id\": 28, \"name\": \"Action\"}, {\"id\": 12, \"nam...</td>\n",
       "      <td>[{\"id\": 1463, \"name\": \"culture clash\"}, {\"id\":...</td>\n",
       "      <td>In the 22nd century, a paraplegic Marine is di...</td>\n",
       "      <td>Avatar</td>\n",
       "      <td>[{\"cast_id\": 242, \"character\": \"Jake Sully\", \"...</td>\n",
       "      <td>[{\"credit_id\": \"52fe48009251416c750aca23\", \"de...</td>\n",
       "    </tr>\n",
       "    <tr>\n",
       "      <th>1</th>\n",
       "      <td>[{\"id\": 12, \"name\": \"Adventure\"}, {\"id\": 14, \"...</td>\n",
       "      <td>[{\"id\": 270, \"name\": \"ocean\"}, {\"id\": 726, \"na...</td>\n",
       "      <td>Captain Barbossa, long believed to be dead, ha...</td>\n",
       "      <td>Pirates of the Caribbean: At World's End</td>\n",
       "      <td>[{\"cast_id\": 4, \"character\": \"Captain Jack Spa...</td>\n",
       "      <td>[{\"credit_id\": \"52fe4232c3a36847f800b579\", \"de...</td>\n",
       "    </tr>\n",
       "    <tr>\n",
       "      <th>2</th>\n",
       "      <td>[{\"id\": 28, \"name\": \"Action\"}, {\"id\": 12, \"nam...</td>\n",
       "      <td>[{\"id\": 470, \"name\": \"spy\"}, {\"id\": 818, \"name...</td>\n",
       "      <td>A cryptic message from Bond’s past sends him o...</td>\n",
       "      <td>Spectre</td>\n",
       "      <td>[{\"cast_id\": 1, \"character\": \"James Bond\", \"cr...</td>\n",
       "      <td>[{\"credit_id\": \"54805967c3a36829b5002c41\", \"de...</td>\n",
       "    </tr>\n",
       "    <tr>\n",
       "      <th>3</th>\n",
       "      <td>[{\"id\": 28, \"name\": \"Action\"}, {\"id\": 80, \"nam...</td>\n",
       "      <td>[{\"id\": 849, \"name\": \"dc comics\"}, {\"id\": 853,...</td>\n",
       "      <td>Following the death of District Attorney Harve...</td>\n",
       "      <td>The Dark Knight Rises</td>\n",
       "      <td>[{\"cast_id\": 2, \"character\": \"Bruce Wayne / Ba...</td>\n",
       "      <td>[{\"credit_id\": \"52fe4781c3a36847f81398c3\", \"de...</td>\n",
       "    </tr>\n",
       "    <tr>\n",
       "      <th>4</th>\n",
       "      <td>[{\"id\": 28, \"name\": \"Action\"}, {\"id\": 12, \"nam...</td>\n",
       "      <td>[{\"id\": 818, \"name\": \"based on novel\"}, {\"id\":...</td>\n",
       "      <td>John Carter is a war-weary, former military ca...</td>\n",
       "      <td>John Carter</td>\n",
       "      <td>[{\"cast_id\": 5, \"character\": \"John Carter\", \"c...</td>\n",
       "      <td>[{\"credit_id\": \"52fe479ac3a36847f813eaa3\", \"de...</td>\n",
       "    </tr>\n",
       "  </tbody>\n",
       "</table>\n",
       "</div>"
      ],
      "text/plain": [
       "                                              genres  \\\n",
       "0  [{\"id\": 28, \"name\": \"Action\"}, {\"id\": 12, \"nam...   \n",
       "1  [{\"id\": 12, \"name\": \"Adventure\"}, {\"id\": 14, \"...   \n",
       "2  [{\"id\": 28, \"name\": \"Action\"}, {\"id\": 12, \"nam...   \n",
       "3  [{\"id\": 28, \"name\": \"Action\"}, {\"id\": 80, \"nam...   \n",
       "4  [{\"id\": 28, \"name\": \"Action\"}, {\"id\": 12, \"nam...   \n",
       "\n",
       "                                            keywords  \\\n",
       "0  [{\"id\": 1463, \"name\": \"culture clash\"}, {\"id\":...   \n",
       "1  [{\"id\": 270, \"name\": \"ocean\"}, {\"id\": 726, \"na...   \n",
       "2  [{\"id\": 470, \"name\": \"spy\"}, {\"id\": 818, \"name...   \n",
       "3  [{\"id\": 849, \"name\": \"dc comics\"}, {\"id\": 853,...   \n",
       "4  [{\"id\": 818, \"name\": \"based on novel\"}, {\"id\":...   \n",
       "\n",
       "                                            overview  \\\n",
       "0  In the 22nd century, a paraplegic Marine is di...   \n",
       "1  Captain Barbossa, long believed to be dead, ha...   \n",
       "2  A cryptic message from Bond’s past sends him o...   \n",
       "3  Following the death of District Attorney Harve...   \n",
       "4  John Carter is a war-weary, former military ca...   \n",
       "\n",
       "                                      title  \\\n",
       "0                                    Avatar   \n",
       "1  Pirates of the Caribbean: At World's End   \n",
       "2                                   Spectre   \n",
       "3                     The Dark Knight Rises   \n",
       "4                               John Carter   \n",
       "\n",
       "                                                cast  \\\n",
       "0  [{\"cast_id\": 242, \"character\": \"Jake Sully\", \"...   \n",
       "1  [{\"cast_id\": 4, \"character\": \"Captain Jack Spa...   \n",
       "2  [{\"cast_id\": 1, \"character\": \"James Bond\", \"cr...   \n",
       "3  [{\"cast_id\": 2, \"character\": \"Bruce Wayne / Ba...   \n",
       "4  [{\"cast_id\": 5, \"character\": \"John Carter\", \"c...   \n",
       "\n",
       "                                                crew  \n",
       "0  [{\"credit_id\": \"52fe48009251416c750aca23\", \"de...  \n",
       "1  [{\"credit_id\": \"52fe4232c3a36847f800b579\", \"de...  \n",
       "2  [{\"credit_id\": \"54805967c3a36829b5002c41\", \"de...  \n",
       "3  [{\"credit_id\": \"52fe4781c3a36847f81398c3\", \"de...  \n",
       "4  [{\"credit_id\": \"52fe479ac3a36847f813eaa3\", \"de...  "
      ]
     },
     "execution_count": 16,
     "metadata": {},
     "output_type": "execute_result"
    }
   ],
   "source": [
    "data.head(5)"
   ]
  },
  {
   "cell_type": "code",
   "execution_count": 17,
   "metadata": {},
   "outputs": [],
   "source": [
    "import ast"
   ]
  },
  {
   "cell_type": "code",
   "execution_count": 18,
   "metadata": {},
   "outputs": [],
   "source": [
    "def clean(text):\n",
    "    ret=[]\n",
    "    for x in ast.literal_eval(text):\n",
    "        ret.append(x['name'])\n",
    "    return ret"
   ]
  },
  {
   "cell_type": "code",
   "execution_count": 19,
   "metadata": {},
   "outputs": [],
   "source": [
    "data.genres=data.genres.apply(clean)"
   ]
  },
  {
   "cell_type": "code",
   "execution_count": 20,
   "metadata": {},
   "outputs": [],
   "source": [
    "data.keywords=data.keywords.apply(clean)"
   ]
  },
  {
   "cell_type": "code",
   "execution_count": 21,
   "metadata": {},
   "outputs": [
    {
     "data": {
      "text/plain": [
       "'[{\"cast_id\": 30, \"character\": \"Peter Parker / Spider-Man\", \"credit_id\": \"52fe4252c3a36847f80151c7\", \"gender\": 2, \"id\": 2219, \"name\": \"Tobey Maguire\", \"order\": 0}, {\"cast_id\": 7, \"character\": \"Mary Jane Watson\", \"credit_id\": \"52fe4252c3a36847f801514f\", \"gender\": 1, \"id\": 205, \"name\": \"Kirsten Dunst\", \"order\": 1}, {\"cast_id\": 35, \"character\": \"Harry Osborn / New Goblin\", \"credit_id\": \"52fe4252c3a36847f80151db\", \"gender\": 2, \"id\": 17051, \"name\": \"James Franco\", \"order\": 2}, {\"cast_id\": 36, \"character\": \"Flint Marko / Sandman\", \"credit_id\": \"52fe4252c3a36847f80151df\", \"gender\": 2, \"id\": 19159, \"name\": \"Thomas Haden Church\", \"order\": 3}, {\"cast_id\": 37, \"character\": \"Eddie Brock / Venom\", \"credit_id\": \"52fe4252c3a36847f80151e3\", \"gender\": 2, \"id\": 17052, \"name\": \"Topher Grace\", \"order\": 4}, {\"cast_id\": 8, \"character\": \"Gwen Stacey\", \"credit_id\": \"52fe4252c3a36847f8015153\", \"gender\": 1, \"id\": 18997, \"name\": \"Bryce Dallas Howard\", \"order\": 5}, {\"cast_id\": 31, \"character\": \"May Parker\", \"credit_id\": \"52fe4252c3a36847f80151cb\", \"gender\": 1, \"id\": 18998, \"name\": \"Rosemary Harris\", \"order\": 6}, {\"cast_id\": 9, \"character\": \"Captain Stacey\", \"credit_id\": \"52fe4252c3a36847f8015157\", \"gender\": 2, \"id\": 2505, \"name\": \"James Cromwell\", \"order\": 7}, {\"cast_id\": 10, \"character\": \"J. Jonah Jameson\", \"credit_id\": \"52fe4252c3a36847f801515b\", \"gender\": 2, \"id\": 18999, \"name\": \"J.K. Simmons\", \"order\": 8}, {\"cast_id\": 14, \"character\": \"Mrs. Marko\", \"credit_id\": \"52fe4252c3a36847f801516d\", \"gender\": 1, \"id\": 9207, \"name\": \"Theresa Russell\", \"order\": 9}, {\"cast_id\": 12, \"character\": \"Dr. Curt Connors\", \"credit_id\": \"52fe4252c3a36847f8015165\", \"gender\": 2, \"id\": 19152, \"name\": \"Dylan Baker\", \"order\": 10}, {\"cast_id\": 13, \"character\": \"Joseph Robertson\", \"credit_id\": \"52fe4252c3a36847f8015169\", \"gender\": 2, \"id\": 5502, \"name\": \"Bill Nunn\", \"order\": 11}, {\"cast_id\": 33, \"character\": \"Miss Brant\", \"credit_id\": \"52fe4252c3a36847f80151d3\", \"gender\": 1, \"id\": 9281, \"name\": \"Elizabeth Banks\", \"order\": 12}, {\"cast_id\": 34, \"character\": \"Hoffman\", \"credit_id\": \"52fe4252c3a36847f80151d7\", \"gender\": 2, \"id\": 11769, \"name\": \"Ted Raimi\", \"order\": 13}, {\"cast_id\": 38, \"character\": \"Penny Marko\", \"credit_id\": \"52fe4252c3a36847f80151e7\", \"gender\": 1, \"id\": 6585, \"name\": \"Perla Haney-Jardine\", \"order\": 14}, {\"cast_id\": 39, \"character\": \"Norman Osborn / Green Goblin\", \"credit_id\": \"52fe4252c3a36847f80151eb\", \"gender\": 2, \"id\": 5293, \"name\": \"Willem Dafoe\", \"order\": 15}, {\"cast_id\": 15, \"character\": \"Ben Parker\", \"credit_id\": \"52fe4252c3a36847f8015171\", \"gender\": 0, \"id\": 19153, \"name\": \"Cliff Robertson\", \"order\": 16}, {\"cast_id\": 41, \"character\": \"Mr. Ditkovitch\", \"credit_id\": \"52fe4252c3a36847f80151f3\", \"gender\": 2, \"id\": 2368, \"name\": \"Elya Baskin\", \"order\": 17}, {\"cast_id\": 42, \"character\": \"Ursula\", \"credit_id\": \"52fe4252c3a36847f80151f7\", \"gender\": 1, \"id\": 20645, \"name\": \"Mageina Tovah\", \"order\": 18}, {\"cast_id\": 46, \"character\": \"Dennis Carradine / Carjacker\", \"credit_id\": \"52fe4252c3a36847f8015207\", \"gender\": 2, \"id\": 20582, \"name\": \"Michael Papajohn\", \"order\": 19}, {\"cast_id\": 47, \"character\": \"Flash Thompson\", \"credit_id\": \"52fe4252c3a36847f801520b\", \"gender\": 2, \"id\": 20580, \"name\": \"Joe Manganiello\", \"order\": 20}, {\"cast_id\": 45, \"character\": \"Man in Times Square\", \"credit_id\": \"52fe4252c3a36847f8015203\", \"gender\": 2, \"id\": 7624, \"name\": \"Stan Lee\", \"order\": 21}, {\"cast_id\": 32, \"character\": \"Ma\\\\u00eetre d\", \"credit_id\": \"52fe4252c3a36847f80151cf\", \"gender\": 2, \"id\": 11357, \"name\": \"Bruce Campbell\", \"order\": 22}, {\"cast_id\": 199, \"character\": \"Pianist\", \"credit_id\": \"595bf201c3a36828fc055217\", \"gender\": 2, \"id\": 19155, \"name\": \"Christopher Young\", \"order\": 23}, {\"cast_id\": 200, \"character\": \"Driver\", \"credit_id\": \"595bf2489251415a4002bf26\", \"gender\": 0, \"id\": 7628, \"name\": \"Grant Curtis\", \"order\": 24}, {\"cast_id\": 16, \"character\": \"John Jameson\", \"credit_id\": \"52fe4252c3a36847f8015175\", \"gender\": 2, \"id\": 19154, \"name\": \"Daniel Gillies\", \"order\": 25}, {\"cast_id\": 43, \"character\": \"Houseman\", \"credit_id\": \"52fe4252c3a36847f80151fb\", \"gender\": 0, \"id\": 19326, \"name\": \"John Paxton\", \"order\": 26}, {\"cast_id\": 44, \"character\": \"Mrs. Stacy\", \"credit_id\": \"52fe4252c3a36847f80151ff\", \"gender\": 1, \"id\": 59206, \"name\": \"Becky Ann Baker\", \"order\": 27}, {\"cast_id\": 48, \"character\": \"Photographer\", \"credit_id\": \"52fe4252c3a36847f801520f\", \"gender\": 2, \"id\": 78311, \"name\": \"Steve Valentine\", \"order\": 28}, {\"cast_id\": 49, \"character\": \"Anchorman\", \"credit_id\": \"52fe4252c3a36847f8015213\", \"gender\": 0, \"id\": 116627, \"name\": \"Hal Fishman\", \"order\": 29}, {\"cast_id\": 50, \"character\": \"Jennifer Dugan\", \"credit_id\": \"52fe4252c3a36847f8015217\", \"gender\": 1, \"id\": 113608, \"name\": \"Lucy Gordon\", \"order\": 30}, {\"cast_id\": 53, \"character\": \"Congratulatory Woman at Daily Bugle\", \"credit_id\": \"566ad9b9c3a36826470046eb\", \"gender\": 1, \"id\": 99932, \"name\": \"Toni Wynne\", \"order\": 31}, {\"cast_id\": 55, \"character\": \"Crane Disaster Radio Policeman\", \"credit_id\": \"57756ff59251412ffa0000c2\", \"gender\": 2, \"id\": 552526, \"name\": \"Andre B. Blake\", \"order\": 32}, {\"cast_id\": 56, \"character\": \"Play Director\", \"credit_id\": \"58d15feec3a36838e900c3ba\", \"gender\": 2, \"id\": 1226471, \"name\": \"Tim Maculan\", \"order\": 33}, {\"cast_id\": 57, \"character\": \"Play Producer\", \"credit_id\": \"58d160059251411acb00d04b\", \"gender\": 2, \"id\": 159456, \"name\": \"Marc Vann\", \"order\": 34}, {\"cast_id\": 58, \"character\": \"Jazz Club Manager\", \"credit_id\": \"58d1611d9251411adc00d9c4\", \"gender\": 2, \"id\": 105701, \"name\": \"Joe Bays\", \"order\": 35}, {\"cast_id\": 59, \"character\": \"Precinct Detective\", \"credit_id\": \"58d1612d9251411adc00d9c9\", \"gender\": 2, \"id\": 66653, \"name\": \"Gregg Daniel\", \"order\": 36}, {\"cast_id\": 60, \"character\": \"Emergency Room Doctor\", \"credit_id\": \"58d16141c3a36838c900d369\", \"gender\": 2, \"id\": 1451076, \"name\": \"Rogelio T. Ramos\", \"order\": 37}, {\"cast_id\": 61, \"character\": \"Crane Operator\", \"credit_id\": \"58d1614fc3a36838af00d209\", \"gender\": 0, \"id\": 11766, \"name\": \"Timothy Patrick Quill\", \"order\": 38}, {\"cast_id\": 62, \"character\": \"Woman Outside Theater\", \"credit_id\": \"58d1616f9251411aef00d00e\", \"gender\": 1, \"id\": 1781288, \"name\": \"Kathryn Bryding\", \"order\": 39}, {\"cast_id\": 63, \"character\": \"Police Detective\", \"credit_id\": \"58d161fac3a36838f100c1bb\", \"gender\": 0, \"id\": 1739821, \"name\": \"Joe Virzi\", \"order\": 40}, {\"cast_id\": 64, \"character\": \"New Jersey State Policeman\", \"credit_id\": \"58d162189251411a9f00d705\", \"gender\": 0, \"id\": 1735986, \"name\": \"Bill E. Rogers\", \"order\": 41}, {\"cast_id\": 65, \"character\": \"New Jersey State Policeman\", \"credit_id\": \"58d1626d9251411ae800d6cb\", \"gender\": 0, \"id\": 1781297, \"name\": \"Michael Alexander\", \"order\": 42}, {\"cast_id\": 66, \"character\": \"Test Site Technician\", \"credit_id\": \"58d16283c3a36838f100c1f4\", \"gender\": 1, \"id\": 1435965, \"name\": \"April Parker-Jones\", \"order\": 43}, {\"cast_id\": 67, \"character\": \"Test Site Technician\", \"credit_id\": \"58d162959251411ae800d6ed\", \"gender\": 0, \"id\": 1781298, \"name\": \"Edward Padilla\", \"order\": 44}, {\"cast_id\": 68, \"character\": \"Test Site Technician\", \"credit_id\": \"58d162a49251411adc00da92\", \"gender\": 2, \"id\": 233298, \"name\": \"Robert Curtis Brown\", \"order\": 45}, {\"cast_id\": 69, \"character\": \"Test Site Technician\", \"credit_id\": \"58d162b5c3a36838af00d2c5\", \"gender\": 2, \"id\": 60490, \"name\": \"Paul Terrell Clayton\", \"order\": 46}, {\"cast_id\": 70, \"character\": \"Test Site Technician\", \"credit_id\": \"58d162ce9251411adc00daa9\", \"gender\": 0, \"id\": 175606, \"name\": \"Carolyn Neff\", \"order\": 47}, {\"cast_id\": 71, \"character\": \"Test Site Technician\", \"credit_id\": \"58d162df9251411ad800d2c7\", \"gender\": 1, \"id\": 1656631, \"name\": \"Christina Cindrich\", \"order\": 48}, {\"cast_id\": 72, \"character\": \"ICU Nurse\", \"credit_id\": \"58d16309c3a368390800bed1\", \"gender\": 0, \"id\": 173163, \"name\": \"Sonya Maddox\", \"order\": 49}, {\"cast_id\": 73, \"character\": \"Cop at Crane Disaster\", \"credit_id\": \"58d16360c3a368390800bf07\", \"gender\": 0, \"id\": 1781299, \"name\": \"Derrick \\'Phoenix\\' Thomas\", \"order\": 50}, {\"cast_id\": 74, \"character\": \"Mary Jane\\'s Replacement\", \"credit_id\": \"58d16380c3a36838df00c615\", \"gender\": 1, \"id\": 1781300, \"name\": \"Jessi Collins\", \"order\": 51}, {\"cast_id\": 75, \"character\": \"Boy at Key to the City Ceremony\", \"credit_id\": \"58d163b2c3a36838d500b54b\", \"gender\": 0, \"id\": 1781301, \"name\": \"Michael McLaughlin\", \"order\": 52}, {\"cast_id\": 76, \"character\": \"Councilwoman\", \"credit_id\": \"58d163cac3a368390800bf4a\", \"gender\": 1, \"id\": 1781302, \"name\": \"Anne Gartlan\", \"order\": 53}, {\"cast_id\": 77, \"character\": \"Policeman at Sand Truck\", \"credit_id\": \"58d163fb9251411ad800d379\", \"gender\": 2, \"id\": 53257, \"name\": \"Emilio Rivera\", \"order\": 54}, {\"cast_id\": 78, \"character\": \"Policeman at Sand Truck\", \"credit_id\": \"58d1640b9251411ad800d38f\", \"gender\": 0, \"id\": 92486, \"name\": \"Keith Woulard\", \"order\": 55}, {\"cast_id\": 79, \"character\": \"Armored Car Driver\", \"credit_id\": \"58d1641ac3a36838f900cfe8\", \"gender\": 2, \"id\": 52946, \"name\": \"Reynaldo Gallegos\", \"order\": 56}, {\"cast_id\": 80, \"character\": \"Newstand Patron\", \"credit_id\": \"58d164299251411aef00d182\", \"gender\": 0, \"id\": 1781303, \"name\": \"Jim Coope\", \"order\": 57}, {\"cast_id\": 81, \"character\": \"Newstand Patron\", \"credit_id\": \"58d164449251411adc00db8a\", \"gender\": 0, \"id\": 98396, \"name\": \"Dean Edwards\", \"order\": 58}, {\"cast_id\": 82, \"character\": \"Newstand Patron\", \"credit_id\": \"58d1645cc3a36838d500b59c\", \"gender\": 1, \"id\": 558055, \"name\": \"Margaret Laney\", \"order\": 59}, {\"cast_id\": 83, \"character\": \"Coffee Shop Waitress\", \"credit_id\": \"58d1654dc3a36838d500b62c\", \"gender\": 1, \"id\": 1781304, \"name\": \"Aimee Miles\", \"order\": 60}, {\"cast_id\": 84, \"character\": \"Jazz Club Waitress\", \"credit_id\": \"58d1663dc3a36838f900d144\", \"gender\": 1, \"id\": 1781307, \"name\": \"Tanya Bond\", \"order\": 61}, {\"cast_id\": 85, \"character\": \"Jazz Club Bouncer\", \"credit_id\": \"58d166c69251411adc00dd32\", \"gender\": 2, \"id\": 193946, \"name\": \"Mark Kubr\", \"order\": 62}, {\"cast_id\": 86, \"character\": \"Photoshoot Client\", \"credit_id\": \"58d166ee9251411ad800d533\", \"gender\": 0, \"id\": 1446719, \"name\": \"Tony Besson\", \"order\": 63}, {\"cast_id\": 87, \"character\": \"Businessman (uncredited)\", \"credit_id\": \"58d16701c3a36838c900d6e9\", \"gender\": 0, \"id\": 1781308, \"name\": \"Ramon Adams\", \"order\": 64}, {\"cast_id\": 88, \"character\": \"Theater Attendee (uncredited)\", \"credit_id\": \"58d1670e9251411ae800d97b\", \"gender\": 0, \"id\": 1781309, \"name\": \"A.J. Adelman\", \"order\": 65}, {\"cast_id\": 89, \"character\": \"Pedestrian (uncredited)\", \"credit_id\": \"58d1671cc3a36838e900c7e5\", \"gender\": 0, \"id\": 1781310, \"name\": \"Angelis Alexandris\", \"order\": 66}, {\"cast_id\": 90, \"character\": \"I.C.U Nurse (uncredited)\", \"credit_id\": \"58d167349251411adc00dd7f\", \"gender\": 1, \"id\": 1781311, \"name\": \"Dawn Marie Anderson\", \"order\": 67}, {\"cast_id\": 91, \"character\": \"NYPD Officer (uncredited)\", \"credit_id\": \"58d167b6c3a36838f100c4f6\", \"gender\": 2, \"id\": 1653331, \"name\": \"Frank Anello\", \"order\": 68}, {\"cast_id\": 92, \"character\": \"Model (uncredited)\", \"credit_id\": \"58d167d69251411ab500dabf\", \"gender\": 1, \"id\": 1781312, \"name\": \"Anya Avaeva\", \"order\": 69}, {\"cast_id\": 93, \"character\": \"Bucket Boy (uncredited)\", \"credit_id\": \"58d1685cc3a36838af00d6a6\", \"gender\": 2, \"id\": 111243, \"name\": \"David Backus\", \"order\": 70}, {\"cast_id\": 94, \"character\": \"News Reporter (uncredited)\", \"credit_id\": \"58d16875c3a36838f100c571\", \"gender\": 1, \"id\": 1781313, \"name\": \"Tiffany L. Baker\", \"order\": 71}, {\"cast_id\": 95, \"character\": \"Photographer (uncredited)\", \"credit_id\": \"58d16910c3a368390800c28a\", \"gender\": 0, \"id\": 1781194, \"name\": \"Marc C. Cancassi\", \"order\": 72}, {\"cast_id\": 96, \"character\": \"Rescued Girl (uncredited)\", \"credit_id\": \"58d16935c3a36838f100c5e8\", \"gender\": 1, \"id\": 1781318, \"name\": \"Sujeilee Candele\", \"order\": 73}, {\"cast_id\": 97, \"character\": \"Photographer (uncredited)\", \"credit_id\": \"58d16a5dc3a36838af00d80b\", \"gender\": 0, \"id\": 454223, \"name\": \"Michael Ciesla\", \"order\": 74}, {\"cast_id\": 98, \"character\": \"Jazz Club Waitress (uncredited)\", \"credit_id\": \"58d16a749251411a9f00dc8f\", \"gender\": 1, \"id\": 232042, \"name\": \"Irina Costa\", \"order\": 75}, {\"cast_id\": 99, \"character\": \"Theater Patron (uncredited)\", \"credit_id\": \"58d16abb9251411adc00dfb6\", \"gender\": 0, \"id\": 1496942, \"name\": \"John Crann\", \"order\": 76}, {\"cast_id\": 100, \"character\": \"Jazz Club Girl (uncredited)\", \"credit_id\": \"58d16acbc3a36838e900ca3e\", \"gender\": 1, \"id\": 1209717, \"name\": \"Crystal Marie Denha\", \"order\": 77}, {\"cast_id\": 101, \"character\": \"Columbia Grad Student (uncredited)\", \"credit_id\": \"58d16b819251411aef00d5d2\", \"gender\": 1, \"id\": 1781325, \"name\": \"Amy V. Dewhurst\", \"order\": 78}, {\"cast_id\": 102, \"character\": \"New York City Commuter / Driver (uncredited)\", \"credit_id\": \"58d16c169251411aef00d633\", \"gender\": 2, \"id\": 1509622, \"name\": \"Paul Edney\", \"order\": 79}, {\"cast_id\": 54, \"character\": \"Girl at Key Ceremony (uncredited)\", \"credit_id\": \"571ce0119251414a870019c0\", \"gender\": 1, \"id\": 1610271, \"name\": \"Natalie Fabry\", \"order\": 80}, {\"cast_id\": 103, \"character\": \"Pedestrian (uncredited)\", \"credit_id\": \"58d16c5e9251411af400dc6c\", \"gender\": 0, \"id\": 1781326, \"name\": \"Keith Fausnaught\", \"order\": 81}, {\"cast_id\": 104, \"character\": \"A Spidey Kid (uncredited)\", \"credit_id\": \"58d16c6c9251411ae800dd2f\", \"gender\": 1, \"id\": 1781199, \"name\": \"Amanda Florian\", \"order\": 82}, {\"cast_id\": 105, \"character\": \"A Spidey Kid (uncredited)\", \"credit_id\": \"58d16c7ac3a36838f900d572\", \"gender\": 1, \"id\": 1781205, \"name\": \"Brianna Leann Florian\", \"order\": 83}, {\"cast_id\": 106, \"character\": \"A Spidey Kid (uncredited)\", \"credit_id\": \"58d16c869251411af400dc87\", \"gender\": 1, \"id\": 1781217, \"name\": \"Tiffany Ashley Florian\", \"order\": 84}, {\"cast_id\": 107, \"character\": \"Businessman (uncredited)\", \"credit_id\": \"58d16c929251411acb00d793\", \"gender\": 0, \"id\": 1781327, \"name\": \"Shaun Patrick Flynn\", \"order\": 85}, {\"cast_id\": 108, \"character\": \"Automobile Driver (uncredited)\", \"credit_id\": \"58d16ca29251411a9f00de11\", \"gender\": 0, \"id\": 1636759, \"name\": \"Logan Fry\", \"order\": 86}, {\"cast_id\": 109, \"character\": \"Spectator (uncredited)\", \"credit_id\": \"58d16caec3a36838d500ba61\", \"gender\": 0, \"id\": 1781328, \"name\": \"Kevin Fung\", \"order\": 87}, {\"cast_id\": 110, \"character\": \"News Spectator (uncredited)\", \"credit_id\": \"58d16cbd9251411ab500ddf6\", \"gender\": 0, \"id\": 1781329, \"name\": \"Tony Galtieri\", \"order\": 88}, {\"cast_id\": 111, \"character\": \"Funeral Limo Driver (uncredited)\", \"credit_id\": \"58d16cccc3a36838d500ba7f\", \"gender\": 0, \"id\": 1781330, \"name\": \"Chuck Gerena\", \"order\": 89}, {\"cast_id\": 112, \"character\": \"News Reporter (uncredited)\", \"credit_id\": \"58d16cf2c3a36838f900d5c7\", \"gender\": 0, \"id\": 1639432, \"name\": \"Brian Hopson\", \"order\": 90}, {\"cast_id\": 113, \"character\": \"Cop (uncredited)\", \"credit_id\": \"58d16cff9251411aef00d6ca\", \"gender\": 0, \"id\": 1781331, \"name\": \"Claude Jay\", \"order\": 91}, {\"cast_id\": 114, \"character\": \"Female New Yorker (uncredited)\", \"credit_id\": \"58d16d19c3a368390800c4f2\", \"gender\": 1, \"id\": 1781332, \"name\": \"Julie Jei\", \"order\": 92}, {\"cast_id\": 115, \"character\": \"Jazz Club Bouncer (uncredited)\", \"credit_id\": \"58d16d5e9251411af400dd23\", \"gender\": 0, \"id\": 1316667, \"name\": \"Andrew James Jones\", \"order\": 93}, {\"cast_id\": 116, \"character\": \"Girl at Key Ceremony (uncredited)\", \"credit_id\": \"58d16d9e9251411a9f00de90\", \"gender\": 1, \"id\": 105632, \"name\": \"Natalie Jones\", \"order\": 94}, {\"cast_id\": 117, \"character\": \"Student (uncredited)\", \"credit_id\": \"58d16e49c3a36838e900cc60\", \"gender\": 0, \"id\": 1781333, \"name\": \"Christopher Jude\", \"order\": 95}, {\"cast_id\": 51, \"character\": \"ER Nurse (uncredited)\", \"credit_id\": \"52fe4252c3a36847f801521b\", \"gender\": 1, \"id\": 1292243, \"name\": \"Brittany Krall\", \"order\": 96}, {\"cast_id\": 118, \"character\": \"Dog Walker (uncredited)\", \"credit_id\": \"58d16f2f9251411aef00d801\", \"gender\": 1, \"id\": 1781334, \"name\": \"Alyssa Lakota\", \"order\": 97}, {\"cast_id\": 119, \"character\": \"Observer (uncredited)\", \"credit_id\": \"58d170979251411acb00d9bf\", \"gender\": 0, \"id\": 1752230, \"name\": \"Tia Latrell\", \"order\": 98}, {\"cast_id\": 120, \"character\": \"Businesswoman (uncredited)\", \"credit_id\": \"58d170a5c3a36838df00cdb6\", \"gender\": 1, \"id\": 1781221, \"name\": \"Linda Lee\", \"order\": 99}, {\"cast_id\": 121, \"character\": \"Woman in Court (uncredited)\", \"credit_id\": \"58d170ba9251411adc00e372\", \"gender\": 1, \"id\": 570374, \"name\": \"Pierangeli Llinas\", \"order\": 100}, {\"cast_id\": 122, \"character\": \"British Publicist (uncredited)\", \"credit_id\": \"58d175cec3a36838d500bfdd\", \"gender\": 1, \"id\": 1246221, \"name\": \"Bernadette Lords\", \"order\": 101}, {\"cast_id\": 123, \"character\": \"Shocked Pedestrian (uncredited)\", \"credit_id\": \"58d175ea9251411ad800dec4\", \"gender\": 1, \"id\": 1781344, \"name\": \"Sandrine Marlier\", \"order\": 102}, {\"cast_id\": 124, \"character\": \"Journalist (uncredited)\", \"credit_id\": \"58d176bfc3a36838f900dcc4\", \"gender\": 1, \"id\": 1781345, \"name\": \"Laura McDavid\", \"order\": 103}, {\"cast_id\": 125, \"character\": \"Girl Screaming in Camaro (uncredited)\", \"credit_id\": \"58d17715c3a368390800cb60\", \"gender\": 1, \"id\": 1781346, \"name\": \"Natalie McNeil\", \"order\": 104}, {\"cast_id\": 126, \"character\": \"Kid in Times Square (uncredited)\", \"credit_id\": \"58d177939251411adc00e854\", \"gender\": 0, \"id\": 1781347, \"name\": \"Daniel Mignault\", \"order\": 105}, {\"cast_id\": 127, \"character\": \"Oscorp Receptionist (uncredited)\", \"credit_id\": \"58d177b7c3a368390800cbc0\", \"gender\": 1, \"id\": 163930, \"name\": \"Martha Millan\", \"order\": 106}, {\"cast_id\": 128, \"character\": \"Girl in Times Square (uncredited)\", \"credit_id\": \"58d1783ac3a36838af00e15f\", \"gender\": 1, \"id\": 1781348, \"name\": \"Michele-Nanette Miller\", \"order\": 107}, {\"cast_id\": 129, \"character\": \"Robbie\\'s Assistant (uncredited)\", \"credit_id\": \"58d178949251411aef00de7e\", \"gender\": 1, \"id\": 1697017, \"name\": \"Claudia Katz Minnick\", \"order\": 108}, {\"cast_id\": 130, \"character\": \"Theatergoer (uncredited)\", \"credit_id\": \"58d1797dc3a36838c900e3e5\", \"gender\": 0, \"id\": 1781349, \"name\": \"Robert Myers\", \"order\": 109}, {\"cast_id\": 131, \"character\": \"Businessman (uncredited)\", \"credit_id\": \"58d179929251411af400e50b\", \"gender\": 0, \"id\": 1480150, \"name\": \"Joseph O\\'Brien\", \"order\": 110}, {\"cast_id\": 132, \"character\": \"Beautiful Girl (uncredited)\", \"credit_id\": \"58d179a9c3a36838e900d412\", \"gender\": 1, \"id\": 1178562, \"name\": \"Jen Oda\", \"order\": 111}, {\"cast_id\": 133, \"character\": \"Beautiful Woman (uncredited)\", \"credit_id\": \"58d17b319251411ad800e234\", \"gender\": 1, \"id\": 1344665, \"name\": \"Anjelia Pelay\", \"order\": 112}, {\"cast_id\": 134, \"character\": \"Police Officer (uncredited)\", \"credit_id\": \"58d17bcfc3a36838c900e571\", \"gender\": 0, \"id\": 118389, \"name\": \"Nick Poltoranin\", \"order\": 113}, {\"cast_id\": 135, \"character\": \"Beautiful Woman (uncredited)\", \"credit_id\": \"58d17beac3a36838df00d55a\", \"gender\": 1, \"id\": 1781350, \"name\": \"Vanessa Reseland\", \"order\": 114}, {\"cast_id\": 136, \"character\": \"Beautiful Woman (uncredited)\", \"credit_id\": \"58d17c759251411a9f00e80e\", \"gender\": 0, \"id\": 1781351, \"name\": \"La Rivers\", \"order\": 115}, {\"cast_id\": 137, \"character\": \"Businesswoman (uncredited)\", \"credit_id\": \"58d17c98c3a36838e900d5e6\", \"gender\": 1, \"id\": 60127, \"name\": \"Bria Roberts\", \"order\": 116}, {\"cast_id\": 138, \"character\": \"Pedestrian (uncredited)\", \"credit_id\": \"58d17d239251411a9f00e897\", \"gender\": 0, \"id\": 1781352, \"name\": \"Luis Rosa\", \"order\": 117}, {\"cast_id\": 139, \"character\": \"Sandman Victim (uncredited)\", \"credit_id\": \"58d17d359251411a9f00e8a9\", \"gender\": 1, \"id\": 1422991, \"name\": \"Vanessa Ross\", \"order\": 118}, {\"cast_id\": 140, \"character\": \"Bad Girl (uncredited)\", \"credit_id\": \"58d17d599251411aef00e1b3\", \"gender\": 1, \"id\": 106147, \"name\": \"Brenna Roth\", \"order\": 119}, {\"cast_id\": 141, \"character\": \"City Hall Cheerer (uncredited)\", \"credit_id\": \"58d17db39251411ae800e895\", \"gender\": 0, \"id\": 1691382, \"name\": \"Shade Rupe\", \"order\": 120}, {\"cast_id\": 142, \"character\": \"Guy with Ticket (uncredited)\", \"credit_id\": \"58d17dc19251411ab500e8bb\", \"gender\": 0, \"id\": 1781353, \"name\": \"Arick Salmea\", \"order\": 121}, {\"cast_id\": 143, \"character\": \"Jazz Club Beatnik (uncredited)\", \"credit_id\": \"58d17dd2c3a36838af00e524\", \"gender\": 0, \"id\": 1367833, \"name\": \"Eric Shackelford\", \"order\": 122}, {\"cast_id\": 144, \"character\": \"Jazz Club Guest (uncredited)\", \"credit_id\": \"58d17ddfc3a36838df00d6b1\", \"gender\": 0, \"id\": 1781354, \"name\": \"Daniel Shafer\", \"order\": 123}, {\"cast_id\": 145, \"character\": \"Caf\\\\u00e9 Girl (uncredited)\", \"credit_id\": \"58d17df7c3a36838d500c4b8\", \"gender\": 1, \"id\": 1781355, \"name\": \"Abbey Skinner\", \"order\": 124}, {\"cast_id\": 146, \"character\": \"Jazz Club Patron (uncredited)\", \"credit_id\": \"58d17e2fc3a36838df00d6f3\", \"gender\": 1, \"id\": 1781356, \"name\": \"Kristin Somo\", \"order\": 125}, {\"cast_id\": 147, \"character\": \"Jazz Club Waitress (uncredited)\", \"credit_id\": \"58d17efc9251411adc00ed24\", \"gender\": 1, \"id\": 1340943, \"name\": \"Jennifer Sparks\", \"order\": 126}, {\"cast_id\": 148, \"character\": \"Firefighter (uncredited)\", \"credit_id\": \"58d17f9c9251411aef00e34c\", \"gender\": 0, \"id\": 211964, \"name\": \"Christopher Stadulis\", \"order\": 127}, {\"cast_id\": 149, \"character\": \"Police Officer (uncredited)\", \"credit_id\": \"58d17fabc3a36838f900e297\", \"gender\": 0, \"id\": 1781358, \"name\": \"Jimmy Star\", \"order\": 128}, {\"cast_id\": 150, \"character\": \"Broadway Audience Member (uncredited)\", \"credit_id\": \"58d17fbbc3a36838df00d807\", \"gender\": 0, \"id\": 1778304, \"name\": \"Arne Starr\", \"order\": 129}, {\"cast_id\": 151, \"character\": \"Jazz Club Musician (uncredited)\", \"credit_id\": \"58d17fca9251411af400e902\", \"gender\": 0, \"id\": 1781359, \"name\": \"Liam Stone\", \"order\": 130}, {\"cast_id\": 152, \"character\": \"Girl in Cab (uncredited)\", \"credit_id\": \"58d17fe7c3a36838af00e6b7\", \"gender\": 1, \"id\": 1781360, \"name\": \"Tajna Tanovic\", \"order\": 131}, {\"cast_id\": 153, \"character\": \"Model (uncredited)\", \"credit_id\": \"58d180779251411ad800e59e\", \"gender\": 1, \"id\": 1454306, \"name\": \"Aija Terauda\", \"order\": 132}, {\"cast_id\": 154, \"character\": \"Hot Girl (uncredited)\", \"credit_id\": \"58d180a4c3a36838e900d867\", \"gender\": 0, \"id\": 1781361, \"name\": \"Brigid Turner\", \"order\": 133}, {\"cast_id\": 155, \"character\": \"Beautiful Woman (uncredited)\", \"credit_id\": \"58d180c79251411ad800e5db\", \"gender\": 1, \"id\": 1781362, \"name\": \"Evelyn Vaccaro\", \"order\": 134}, {\"cast_id\": 156, \"character\": \"Bar Patron #5 (uncredited)\", \"credit_id\": \"58d18160c3a36838df00d910\", \"gender\": 0, \"id\": 1781365, \"name\": \"Nick Vlassopoulos\", \"order\": 135}, {\"cast_id\": 157, \"character\": \"Model (uncredited)\", \"credit_id\": \"58d1816fc3a36838f900e3e3\", \"gender\": 1, \"id\": 1614425, \"name\": \"Sincerely A. Ward\", \"order\": 136}, {\"cast_id\": 158, \"character\": \"Model (uncredited)\", \"credit_id\": \"58d1817a9251411ad800e664\", \"gender\": 0, \"id\": 567242, \"name\": \"Silq Webster\", \"order\": 137}, {\"cast_id\": 159, \"character\": \"Student (uncredited)\", \"credit_id\": \"58d181979251411adc00eefb\", \"gender\": 0, \"id\": 1781366, \"name\": \"Graig F. Weich\", \"order\": 138}, {\"cast_id\": 160, \"character\": \"Restaurant Patron (uncredited)\", \"credit_id\": \"58d181a69251411aef00e49e\", \"gender\": 0, \"id\": 1781368, \"name\": \"Fredrick Weiss\", \"order\": 139}, {\"cast_id\": 161, \"character\": \"ER Nurse (uncredited)\", \"credit_id\": \"58d181b5c3a36838e900d903\", \"gender\": 1, \"id\": 1225878, \"name\": \"Jennifer Weston\", \"order\": 140}, {\"cast_id\": 162, \"character\": \"City Hall Cheerer (uncredited)\", \"credit_id\": \"58d181d3c3a36838e900d916\", \"gender\": 0, \"id\": 1781371, \"name\": \"Trenton Willey\", \"order\": 141}, {\"cast_id\": 163, \"character\": \"Spectator (uncredited)\", \"credit_id\": \"58d181e0c3a36838d500c6f3\", \"gender\": 2, \"id\": 1368459, \"name\": \"Ray Wineteer\", \"order\": 142}]'"
      ]
     },
     "execution_count": 21,
     "metadata": {},
     "output_type": "execute_result"
    }
   ],
   "source": [
    "#for column cast\n",
    "data.loc[5]['cast'] #character bata actor ko nam matra lina cha character ko nam haina ani first thre actors matra chaiyo"
   ]
  },
  {
   "cell_type": "code",
   "execution_count": 22,
   "metadata": {},
   "outputs": [],
   "source": [
    "def clean_characters(text):\n",
    "    ret=[]\n",
    "    count=0\n",
    "    for x in ast.literal_eval(text):\n",
    "        if count < 3:\n",
    "            ret.append(x['name'])\n",
    "            count+=1\n",
    "    return ret\n",
    "    "
   ]
  },
  {
   "cell_type": "code",
   "execution_count": 23,
   "metadata": {},
   "outputs": [],
   "source": [
    "data.cast=data.cast.apply(clean_characters)"
   ]
  },
  {
   "cell_type": "code",
   "execution_count": 24,
   "metadata": {},
   "outputs": [
    {
     "data": {
      "text/html": [
       "<div>\n",
       "<style scoped>\n",
       "    .dataframe tbody tr th:only-of-type {\n",
       "        vertical-align: middle;\n",
       "    }\n",
       "\n",
       "    .dataframe tbody tr th {\n",
       "        vertical-align: top;\n",
       "    }\n",
       "\n",
       "    .dataframe thead th {\n",
       "        text-align: right;\n",
       "    }\n",
       "</style>\n",
       "<table border=\"1\" class=\"dataframe\">\n",
       "  <thead>\n",
       "    <tr style=\"text-align: right;\">\n",
       "      <th></th>\n",
       "      <th>genres</th>\n",
       "      <th>keywords</th>\n",
       "      <th>overview</th>\n",
       "      <th>title</th>\n",
       "      <th>cast</th>\n",
       "      <th>crew</th>\n",
       "    </tr>\n",
       "  </thead>\n",
       "  <tbody>\n",
       "    <tr>\n",
       "      <th>0</th>\n",
       "      <td>[Action, Adventure, Fantasy, Science Fiction]</td>\n",
       "      <td>[culture clash, future, space war, space colon...</td>\n",
       "      <td>In the 22nd century, a paraplegic Marine is di...</td>\n",
       "      <td>Avatar</td>\n",
       "      <td>[Sam Worthington, Zoe Saldana, Sigourney Weaver]</td>\n",
       "      <td>[{\"credit_id\": \"52fe48009251416c750aca23\", \"de...</td>\n",
       "    </tr>\n",
       "    <tr>\n",
       "      <th>1</th>\n",
       "      <td>[Adventure, Fantasy, Action]</td>\n",
       "      <td>[ocean, drug abuse, exotic island, east india ...</td>\n",
       "      <td>Captain Barbossa, long believed to be dead, ha...</td>\n",
       "      <td>Pirates of the Caribbean: At World's End</td>\n",
       "      <td>[Johnny Depp, Orlando Bloom, Keira Knightley]</td>\n",
       "      <td>[{\"credit_id\": \"52fe4232c3a36847f800b579\", \"de...</td>\n",
       "    </tr>\n",
       "    <tr>\n",
       "      <th>2</th>\n",
       "      <td>[Action, Adventure, Crime]</td>\n",
       "      <td>[spy, based on novel, secret agent, sequel, mi...</td>\n",
       "      <td>A cryptic message from Bond’s past sends him o...</td>\n",
       "      <td>Spectre</td>\n",
       "      <td>[Daniel Craig, Christoph Waltz, Léa Seydoux]</td>\n",
       "      <td>[{\"credit_id\": \"54805967c3a36829b5002c41\", \"de...</td>\n",
       "    </tr>\n",
       "    <tr>\n",
       "      <th>3</th>\n",
       "      <td>[Action, Crime, Drama, Thriller]</td>\n",
       "      <td>[dc comics, crime fighter, terrorist, secret i...</td>\n",
       "      <td>Following the death of District Attorney Harve...</td>\n",
       "      <td>The Dark Knight Rises</td>\n",
       "      <td>[Christian Bale, Michael Caine, Gary Oldman]</td>\n",
       "      <td>[{\"credit_id\": \"52fe4781c3a36847f81398c3\", \"de...</td>\n",
       "    </tr>\n",
       "    <tr>\n",
       "      <th>4</th>\n",
       "      <td>[Action, Adventure, Science Fiction]</td>\n",
       "      <td>[based on novel, mars, medallion, space travel...</td>\n",
       "      <td>John Carter is a war-weary, former military ca...</td>\n",
       "      <td>John Carter</td>\n",
       "      <td>[Taylor Kitsch, Lynn Collins, Samantha Morton]</td>\n",
       "      <td>[{\"credit_id\": \"52fe479ac3a36847f813eaa3\", \"de...</td>\n",
       "    </tr>\n",
       "  </tbody>\n",
       "</table>\n",
       "</div>"
      ],
      "text/plain": [
       "                                          genres  \\\n",
       "0  [Action, Adventure, Fantasy, Science Fiction]   \n",
       "1                   [Adventure, Fantasy, Action]   \n",
       "2                     [Action, Adventure, Crime]   \n",
       "3               [Action, Crime, Drama, Thriller]   \n",
       "4           [Action, Adventure, Science Fiction]   \n",
       "\n",
       "                                            keywords  \\\n",
       "0  [culture clash, future, space war, space colon...   \n",
       "1  [ocean, drug abuse, exotic island, east india ...   \n",
       "2  [spy, based on novel, secret agent, sequel, mi...   \n",
       "3  [dc comics, crime fighter, terrorist, secret i...   \n",
       "4  [based on novel, mars, medallion, space travel...   \n",
       "\n",
       "                                            overview  \\\n",
       "0  In the 22nd century, a paraplegic Marine is di...   \n",
       "1  Captain Barbossa, long believed to be dead, ha...   \n",
       "2  A cryptic message from Bond’s past sends him o...   \n",
       "3  Following the death of District Attorney Harve...   \n",
       "4  John Carter is a war-weary, former military ca...   \n",
       "\n",
       "                                      title  \\\n",
       "0                                    Avatar   \n",
       "1  Pirates of the Caribbean: At World's End   \n",
       "2                                   Spectre   \n",
       "3                     The Dark Knight Rises   \n",
       "4                               John Carter   \n",
       "\n",
       "                                               cast  \\\n",
       "0  [Sam Worthington, Zoe Saldana, Sigourney Weaver]   \n",
       "1     [Johnny Depp, Orlando Bloom, Keira Knightley]   \n",
       "2      [Daniel Craig, Christoph Waltz, Léa Seydoux]   \n",
       "3      [Christian Bale, Michael Caine, Gary Oldman]   \n",
       "4    [Taylor Kitsch, Lynn Collins, Samantha Morton]   \n",
       "\n",
       "                                                crew  \n",
       "0  [{\"credit_id\": \"52fe48009251416c750aca23\", \"de...  \n",
       "1  [{\"credit_id\": \"52fe4232c3a36847f800b579\", \"de...  \n",
       "2  [{\"credit_id\": \"54805967c3a36829b5002c41\", \"de...  \n",
       "3  [{\"credit_id\": \"52fe4781c3a36847f81398c3\", \"de...  \n",
       "4  [{\"credit_id\": \"52fe479ac3a36847f813eaa3\", \"de...  "
      ]
     },
     "execution_count": 24,
     "metadata": {},
     "output_type": "execute_result"
    }
   ],
   "source": [
    "data.head()"
   ]
  },
  {
   "cell_type": "code",
   "execution_count": 25,
   "metadata": {},
   "outputs": [
    {
     "data": {
      "text/plain": [
       "'[{\"credit_id\": \"52fe4252c3a36847f80151a5\", \"department\": \"Production\", \"gender\": 1, \"id\": 6410, \"job\": \"Casting\", \"name\": \"Francine Maisler\"}, {\"credit_id\": \"52fe4252c3a36847f801517b\", \"department\": \"Production\", \"gender\": 0, \"id\": 10570, \"job\": \"Executive Producer\", \"name\": \"Joseph M. Caracciolo Jr.\"}, {\"credit_id\": \"58d1820cc3a36838d500c706\", \"department\": \"Writing\", \"gender\": 2, \"id\": 7623, \"job\": \"Screenplay\", \"name\": \"Sam Raimi\"}, {\"credit_id\": \"52fe4252c3a36847f801512d\", \"department\": \"Directing\", \"gender\": 2, \"id\": 7623, \"job\": \"Director\", \"name\": \"Sam Raimi\"}, {\"credit_id\": \"52fe4252c3a36847f8015145\", \"department\": \"Writing\", \"gender\": 2, \"id\": 7624, \"job\": \"Author\", \"name\": \"Stan Lee\"}, {\"credit_id\": \"52fe4252c3a36847f8015187\", \"department\": \"Production\", \"gender\": 2, \"id\": 7624, \"job\": \"Executive Producer\", \"name\": \"Stan Lee\"}, {\"credit_id\": \"52fe4252c3a36847f8015161\", \"department\": \"Writing\", \"gender\": 2, \"id\": 7625, \"job\": \"Author\", \"name\": \"Steve Ditko\"}, {\"credit_id\": \"52fe4252c3a36847f8015199\", \"department\": \"Editing\", \"gender\": 2, \"id\": 7712, \"job\": \"Editor\", \"name\": \"Bob Murawski\"}, {\"credit_id\": \"52fe4252c3a36847f8015139\", \"department\": \"Production\", \"gender\": 1, \"id\": 7627, \"job\": \"Producer\", \"name\": \"Laura Ziskin\"}, {\"credit_id\": \"52fe4252c3a36847f8015133\", \"department\": \"Production\", \"gender\": 2, \"id\": 7626, \"job\": \"Producer\", \"name\": \"Avi Arad\"}, {\"credit_id\": \"52fe4252c3a36847f80151b1\", \"department\": \"Art\", \"gender\": 2, \"id\": 11411, \"job\": \"Production Design\", \"name\": \"Neil Spisak\"}, {\"credit_id\": \"52fe4252c3a36847f80151bd\", \"department\": \"Costume & Make-Up\", \"gender\": 2, \"id\": 11386, \"job\": \"Costume Design\", \"name\": \"James Acheson\"}, {\"credit_id\": \"52fe4252c3a36847f801514b\", \"department\": \"Writing\", \"gender\": 2, \"id\": 7630, \"job\": \"Screenplay\", \"name\": \"Alvin Sargent\"}, {\"credit_id\": \"52fe4252c3a36847f8015181\", \"department\": \"Production\", \"gender\": 2, \"id\": 10850, \"job\": \"Executive Producer\", \"name\": \"Kevin Feige\"}, {\"credit_id\": \"52fe4252c3a36847f801518d\", \"department\": \"Camera\", \"gender\": 0, \"id\": 9341, \"job\": \"Director of Photography\", \"name\": \"Bill Pope\"}, {\"credit_id\": \"52fe4252c3a36847f801513f\", \"department\": \"Production\", \"gender\": 0, \"id\": 7628, \"job\": \"Producer\", \"name\": \"Grant Curtis\"}, {\"credit_id\": \"58d182179251411acb00e50d\", \"department\": \"Writing\", \"gender\": 2, \"id\": 7629, \"job\": \"Screenplay\", \"name\": \"Ivan Raimi\"}, {\"credit_id\": \"52fe4252c3a36847f8015193\", \"department\": \"Sound\", \"gender\": 2, \"id\": 19155, \"job\": \"Original Music Composer\", \"name\": \"Christopher Young\"}, {\"credit_id\": \"52fe4252c3a36847f801519f\", \"department\": \"Production\", \"gender\": 1, \"id\": 19156, \"job\": \"Casting\", \"name\": \"Kathy Driscoll\"}, {\"credit_id\": \"52fe4252c3a36847f80151ab\", \"department\": \"Art\", \"gender\": 2, \"id\": 13304, \"job\": \"Production Design\", \"name\": \"J. Michael Riva\"}, {\"credit_id\": \"52fe4252c3a36847f80151b7\", \"department\": \"Art\", \"gender\": 0, \"id\": 19157, \"job\": \"Set Decoration\", \"name\": \"Leslie A. Pope\"}, {\"credit_id\": \"52fe4252c3a36847f80151c3\", \"department\": \"Costume & Make-Up\", \"gender\": 0, \"id\": 19158, \"job\": \"Costume Design\", \"name\": \"Katina Le Kerr\"}, {\"credit_id\": \"58d1832d9251411adc00f020\", \"department\": \"Production\", \"gender\": 2, \"id\": 12770, \"job\": \"Unit Production Manager\", \"name\": \"Denis L. Stewart\"}, {\"credit_id\": \"58d182659251411ae800eb94\", \"department\": \"Art\", \"gender\": 0, \"id\": 13586, \"job\": \"Art Direction\", \"name\": \"Christopher Burian-Mohr\"}, {\"credit_id\": \"58d18271c3a36838d500c740\", \"department\": \"Art\", \"gender\": 2, \"id\": 14349, \"job\": \"Art Direction\", \"name\": \"David F. Klassen\"}, {\"credit_id\": \"58d183029251411aef00e583\", \"department\": \"Production\", \"gender\": 0, \"id\": 38939, \"job\": \"Production Manager\", \"name\": \"Richard Baratta\"}, {\"credit_id\": \"58d1827f9251411aef00e525\", \"department\": \"Art\", \"gender\": 1, \"id\": 66689, \"job\": \"Art Direction\", \"name\": \"Dawn Swiderski\"}, {\"credit_id\": \"58d182abc3a36838e900d994\", \"department\": \"Art\", \"gender\": 1, \"id\": 963355, \"job\": \"Art Direction\", \"name\": \"Suzan Wexler\"}, {\"credit_id\": \"594783679251413ff403a30d\", \"department\": \"Camera\", \"gender\": 0, \"id\": 1172443, \"job\": \"Still Photographer\", \"name\": \"Merrick Morton\"}, {\"credit_id\": \"58d1857c9251411ae800edfb\", \"department\": \"Production\", \"gender\": 1, \"id\": 1227450, \"job\": \"Casting Assistant\", \"name\": \"Katie Taylor\"}, {\"credit_id\": \"58d18662c3a36838d500c9e7\", \"department\": \"Production\", \"gender\": 0, \"id\": 1339433, \"job\": \"Production Coordinator\", \"name\": \"Noelle Green\"}, {\"credit_id\": \"58d18364c3a36838d500c7db\", \"department\": \"Art\", \"gender\": 0, \"id\": 1339436, \"job\": \"Set Designer\", \"name\": \"Kevin Cross\"}, {\"credit_id\": \"58d186a89251411aef00e82b\", \"department\": \"Directing\", \"gender\": 1, \"id\": 1339468, \"job\": \"Script Supervisor\", \"name\": \"Trudy Ramirez\"}, {\"credit_id\": \"58d18345c3a36838af00e8ff\", \"department\": \"Art\", \"gender\": 0, \"id\": 1357047, \"job\": \"Set Designer\", \"name\": \"Aric Cheng\"}, {\"credit_id\": \"58d183c69251411a9f00ed18\", \"department\": \"Art\", \"gender\": 1, \"id\": 1360094, \"job\": \"Set Designer\", \"name\": \"Noelle King\"}, {\"credit_id\": \"594783599251413ff403a2f8\", \"department\": \"Camera\", \"gender\": 0, \"id\": 1377133, \"job\": \"Still Photographer\", \"name\": \"Merie Weismiller Wallace\"}, {\"credit_id\": \"58d18402c3a368390800d348\", \"department\": \"Art\", \"gender\": 1, \"id\": 1378224, \"job\": \"Set Designer\", \"name\": \"Barbara Mesney\"}, {\"credit_id\": \"58d183f59251411ab500ecf2\", \"department\": \"Art\", \"gender\": 0, \"id\": 1386908, \"job\": \"Set Designer\", \"name\": \"Jeff Markwith\"}, {\"credit_id\": \"58d18382c3a368390800d2eb\", \"department\": \"Art\", \"gender\": 1, \"id\": 1392895, \"job\": \"Set Designer\", \"name\": \"Andrea Dopaso\"}, {\"credit_id\": \"58d186d4c3a368390800d577\", \"department\": \"Production\", \"gender\": 0, \"id\": 1393226, \"job\": \"Production Coordinator\", \"name\": \"V.W. Scheich\"}, {\"credit_id\": \"58d1845e9251411a9f00ed9f\", \"department\": \"Art\", \"gender\": 0, \"id\": 1395435, \"job\": \"Set Designer\", \"name\": \"Theodore Sharps\"}, {\"credit_id\": \"58d1846e9251411adc00f136\", \"department\": \"Art\", \"gender\": 1, \"id\": 1400065, \"job\": \"Set Designer\", \"name\": \"Patte Strong-Lord\"}, {\"credit_id\": \"5542cdef925141586f000728\", \"department\": \"Crew\", \"gender\": 0, \"id\": 1451676, \"job\": \"Visual Effects Editor\", \"name\": \"Earl A. Hibbert\"}, {\"credit_id\": \"58d183139251411ad800e750\", \"department\": \"Production\", \"gender\": 0, \"id\": 1533708, \"job\": \"Production Supervisor\", \"name\": \"David J. Grant\"}, {\"credit_id\": \"58d18649c3a36838c900ecbd\", \"department\": \"Production\", \"gender\": 0, \"id\": 1553559, \"job\": \"Production Coordinator\", \"name\": \"John DeSimone\"}, {\"credit_id\": \"58d1844c9251411acb00e6a8\", \"department\": \"Art\", \"gender\": 0, \"id\": 1614178, \"job\": \"Set Designer\", \"name\": \"Brett Phillips\"}, {\"credit_id\": \"58d1860f9251411acb00e7d3\", \"department\": \"Production\", \"gender\": 2, \"id\": 1648111, \"job\": \"Location Manager\", \"name\": \"Andrew Saxe\"}, {\"credit_id\": \"58d185ce9251411acb00e7a7\", \"department\": \"Production\", \"gender\": 0, \"id\": 1684384, \"job\": \"Location Manager\", \"name\": \"John Fedynich\"}, {\"credit_id\": \"58d1854ac3a36838f900e6a6\", \"department\": \"Production\", \"gender\": 0, \"id\": 1735078, \"job\": \"Casting Assistant\", \"name\": \"Will F. Moore\"}, {\"credit_id\": \"58d185209251411ab500edda\", \"department\": \"Production\", \"gender\": 0, \"id\": 1735079, \"job\": \"Casting Assistant\", \"name\": \"Lavelle Brown\"}, {\"credit_id\": \"58d184e1c3a36838f100d775\", \"department\": \"Production\", \"gender\": 1, \"id\": 1781374, \"job\": \"Casting Assistant\", \"name\": \"Merry Alderman\"}, {\"credit_id\": \"58d185589251411a9f00ee58\", \"department\": \"Production\", \"gender\": 0, \"id\": 1781376, \"job\": \"Casting Assistant\", \"name\": \"Neal Naito\"}, {\"credit_id\": \"58d185bac3a36838f100d820\", \"department\": \"Production\", \"gender\": 0, \"id\": 1781378, \"job\": \"Casting Associate\", \"name\": \"Jeffrey Gafner\"}, {\"credit_id\": \"58d185eac3a36838f900e71e\", \"department\": \"Art\", \"gender\": 1, \"id\": 1781379, \"job\": \"Location Scout\", \"name\": \"Ellen Gessert\"}, {\"credit_id\": \"58d1867c9251411ae800eeb6\", \"department\": \"Art\", \"gender\": 0, \"id\": 1781381, \"job\": \"Title Designer\", \"name\": \"Heebok Lee\"}, {\"credit_id\": \"58d18697c3a36838d500ca0b\", \"department\": \"Production\", \"gender\": 0, \"id\": 1781382, \"job\": \"Production Coordinator\", \"name\": \"Greg Outcalt\"}]'"
      ]
     },
     "execution_count": 25,
     "metadata": {},
     "output_type": "execute_result"
    }
   ],
   "source": [
    "data.loc[5]['crew']"
   ]
  },
  {
   "cell_type": "code",
   "execution_count": 26,
   "metadata": {},
   "outputs": [],
   "source": [
    "#for column crew\n",
    "def clean_crew(text):\n",
    "    ret=[]\n",
    "    for x in ast.literal_eval(text):\n",
    "        if x['job']=='Director':\n",
    "            ret.append(x['name'])\n",
    "            break\n",
    "    return ret\n",
    "    "
   ]
  },
  {
   "cell_type": "code",
   "execution_count": 27,
   "metadata": {},
   "outputs": [],
   "source": [
    "data.crew=data.crew.apply(clean_crew)"
   ]
  },
  {
   "cell_type": "code",
   "execution_count": 28,
   "metadata": {},
   "outputs": [
    {
     "data": {
      "text/plain": [
       "0           [James Cameron]\n",
       "1          [Gore Verbinski]\n",
       "2              [Sam Mendes]\n",
       "3       [Christopher Nolan]\n",
       "4          [Andrew Stanton]\n",
       "               ...         \n",
       "4804     [Robert Rodriguez]\n",
       "4805         [Edward Burns]\n",
       "4806          [Scott Smith]\n",
       "4807          [Daniel Hsia]\n",
       "4808     [Brian Herzlinger]\n",
       "Name: crew, Length: 4809, dtype: object"
      ]
     },
     "execution_count": 28,
     "metadata": {},
     "output_type": "execute_result"
    }
   ],
   "source": [
    "data.crew"
   ]
  },
  {
   "cell_type": "code",
   "execution_count": 29,
   "metadata": {},
   "outputs": [],
   "source": [
    "import re"
   ]
  },
  {
   "cell_type": "code",
   "execution_count": 30,
   "metadata": {},
   "outputs": [],
   "source": [
    "data.crew=data.crew.apply(lambda x:[re.sub(r'\\s','',w) for w in x]).apply(lambda k: [t.lower() for t in k])"
   ]
  },
  {
   "cell_type": "raw",
   "metadata": {},
   "source": [
    "# now for cast doing the same esto kina greko bhanda space ma cha bhane vectorize hunda each word ko lagi separately huncha so tesle garda \n",
    "# eura bhae pani differently group huna salcha eg, Sam Willer ani Sam Hash cha bhane sam ra sam ko vectorize similar huncha so\n",
    "# tesle garda yo duita chai group huna jana sakcha tesaele hamile spcae eliminate gareko ho"
   ]
  },
  {
   "cell_type": "code",
   "execution_count": 31,
   "metadata": {},
   "outputs": [],
   "source": [
    "data.cast=data.cast.apply(lambda x:[re.sub(r'\\s','',w) for w in x]).apply(lambda k: [t.lower() for t in k])"
   ]
  },
  {
   "cell_type": "code",
   "execution_count": 32,
   "metadata": {},
   "outputs": [],
   "source": [
    "data.genres=data.genres.apply(lambda x:[re.sub(r'\\s','',w) for w in x]).apply(lambda k: [t.lower() for t in k])"
   ]
  },
  {
   "cell_type": "code",
   "execution_count": 33,
   "metadata": {},
   "outputs": [],
   "source": [
    "data.keywords=data.keywords.apply(lambda x:[re.sub(r'\\s','',w) for w in x]).apply(lambda k: [t.lower() for t in k])"
   ]
  },
  {
   "cell_type": "code",
   "execution_count": 34,
   "metadata": {},
   "outputs": [
    {
     "data": {
      "text/html": [
       "<div>\n",
       "<style scoped>\n",
       "    .dataframe tbody tr th:only-of-type {\n",
       "        vertical-align: middle;\n",
       "    }\n",
       "\n",
       "    .dataframe tbody tr th {\n",
       "        vertical-align: top;\n",
       "    }\n",
       "\n",
       "    .dataframe thead th {\n",
       "        text-align: right;\n",
       "    }\n",
       "</style>\n",
       "<table border=\"1\" class=\"dataframe\">\n",
       "  <thead>\n",
       "    <tr style=\"text-align: right;\">\n",
       "      <th></th>\n",
       "      <th>genres</th>\n",
       "      <th>keywords</th>\n",
       "      <th>overview</th>\n",
       "      <th>title</th>\n",
       "      <th>cast</th>\n",
       "      <th>crew</th>\n",
       "    </tr>\n",
       "  </thead>\n",
       "  <tbody>\n",
       "    <tr>\n",
       "      <th>0</th>\n",
       "      <td>[action, adventure, fantasy, sciencefiction]</td>\n",
       "      <td>[cultureclash, future, spacewar, spacecolony, ...</td>\n",
       "      <td>In the 22nd century, a paraplegic Marine is di...</td>\n",
       "      <td>Avatar</td>\n",
       "      <td>[samworthington, zoesaldana, sigourneyweaver]</td>\n",
       "      <td>[jamescameron]</td>\n",
       "    </tr>\n",
       "    <tr>\n",
       "      <th>1</th>\n",
       "      <td>[adventure, fantasy, action]</td>\n",
       "      <td>[ocean, drugabuse, exoticisland, eastindiatrad...</td>\n",
       "      <td>Captain Barbossa, long believed to be dead, ha...</td>\n",
       "      <td>Pirates of the Caribbean: At World's End</td>\n",
       "      <td>[johnnydepp, orlandobloom, keiraknightley]</td>\n",
       "      <td>[goreverbinski]</td>\n",
       "    </tr>\n",
       "    <tr>\n",
       "      <th>2</th>\n",
       "      <td>[action, adventure, crime]</td>\n",
       "      <td>[spy, basedonnovel, secretagent, sequel, mi6, ...</td>\n",
       "      <td>A cryptic message from Bond’s past sends him o...</td>\n",
       "      <td>Spectre</td>\n",
       "      <td>[danielcraig, christophwaltz, léaseydoux]</td>\n",
       "      <td>[sammendes]</td>\n",
       "    </tr>\n",
       "    <tr>\n",
       "      <th>3</th>\n",
       "      <td>[action, crime, drama, thriller]</td>\n",
       "      <td>[dccomics, crimefighter, terrorist, secretiden...</td>\n",
       "      <td>Following the death of District Attorney Harve...</td>\n",
       "      <td>The Dark Knight Rises</td>\n",
       "      <td>[christianbale, michaelcaine, garyoldman]</td>\n",
       "      <td>[christophernolan]</td>\n",
       "    </tr>\n",
       "    <tr>\n",
       "      <th>4</th>\n",
       "      <td>[action, adventure, sciencefiction]</td>\n",
       "      <td>[basedonnovel, mars, medallion, spacetravel, p...</td>\n",
       "      <td>John Carter is a war-weary, former military ca...</td>\n",
       "      <td>John Carter</td>\n",
       "      <td>[taylorkitsch, lynncollins, samanthamorton]</td>\n",
       "      <td>[andrewstanton]</td>\n",
       "    </tr>\n",
       "    <tr>\n",
       "      <th>...</th>\n",
       "      <td>...</td>\n",
       "      <td>...</td>\n",
       "      <td>...</td>\n",
       "      <td>...</td>\n",
       "      <td>...</td>\n",
       "      <td>...</td>\n",
       "    </tr>\n",
       "    <tr>\n",
       "      <th>4804</th>\n",
       "      <td>[action, crime, thriller]</td>\n",
       "      <td>[unitedstates–mexicobarrier, legs, arms, paper...</td>\n",
       "      <td>El Mariachi just wants to play his guitar and ...</td>\n",
       "      <td>El Mariachi</td>\n",
       "      <td>[carlosgallardo, jaimedehoyos, petermarquardt]</td>\n",
       "      <td>[robertrodriguez]</td>\n",
       "    </tr>\n",
       "    <tr>\n",
       "      <th>4805</th>\n",
       "      <td>[comedy, romance]</td>\n",
       "      <td>[]</td>\n",
       "      <td>A newlywed couple's honeymoon is upended by th...</td>\n",
       "      <td>Newlyweds</td>\n",
       "      <td>[edwardburns, kerrybishé, marshadietlein]</td>\n",
       "      <td>[edwardburns]</td>\n",
       "    </tr>\n",
       "    <tr>\n",
       "      <th>4806</th>\n",
       "      <td>[comedy, drama, romance, tvmovie]</td>\n",
       "      <td>[date, loveatfirstsight, narration, investigat...</td>\n",
       "      <td>\"Signed, Sealed, Delivered\" introduces a dedic...</td>\n",
       "      <td>Signed, Sealed, Delivered</td>\n",
       "      <td>[ericmabius, kristinbooth, crystallowe]</td>\n",
       "      <td>[scottsmith]</td>\n",
       "    </tr>\n",
       "    <tr>\n",
       "      <th>4807</th>\n",
       "      <td>[]</td>\n",
       "      <td>[]</td>\n",
       "      <td>When ambitious New York attorney Sam is sent t...</td>\n",
       "      <td>Shanghai Calling</td>\n",
       "      <td>[danielhenney, elizacoupe, billpaxton]</td>\n",
       "      <td>[danielhsia]</td>\n",
       "    </tr>\n",
       "    <tr>\n",
       "      <th>4808</th>\n",
       "      <td>[documentary]</td>\n",
       "      <td>[obsession, camcorder, crush, dreamgirl]</td>\n",
       "      <td>Ever since the second grade when he first saw ...</td>\n",
       "      <td>My Date with Drew</td>\n",
       "      <td>[drewbarrymore, brianherzlinger, coreyfeldman]</td>\n",
       "      <td>[brianherzlinger]</td>\n",
       "    </tr>\n",
       "  </tbody>\n",
       "</table>\n",
       "<p>4809 rows × 6 columns</p>\n",
       "</div>"
      ],
      "text/plain": [
       "                                            genres  \\\n",
       "0     [action, adventure, fantasy, sciencefiction]   \n",
       "1                     [adventure, fantasy, action]   \n",
       "2                       [action, adventure, crime]   \n",
       "3                 [action, crime, drama, thriller]   \n",
       "4              [action, adventure, sciencefiction]   \n",
       "...                                            ...   \n",
       "4804                     [action, crime, thriller]   \n",
       "4805                             [comedy, romance]   \n",
       "4806             [comedy, drama, romance, tvmovie]   \n",
       "4807                                            []   \n",
       "4808                                 [documentary]   \n",
       "\n",
       "                                               keywords  \\\n",
       "0     [cultureclash, future, spacewar, spacecolony, ...   \n",
       "1     [ocean, drugabuse, exoticisland, eastindiatrad...   \n",
       "2     [spy, basedonnovel, secretagent, sequel, mi6, ...   \n",
       "3     [dccomics, crimefighter, terrorist, secretiden...   \n",
       "4     [basedonnovel, mars, medallion, spacetravel, p...   \n",
       "...                                                 ...   \n",
       "4804  [unitedstates–mexicobarrier, legs, arms, paper...   \n",
       "4805                                                 []   \n",
       "4806  [date, loveatfirstsight, narration, investigat...   \n",
       "4807                                                 []   \n",
       "4808           [obsession, camcorder, crush, dreamgirl]   \n",
       "\n",
       "                                               overview  \\\n",
       "0     In the 22nd century, a paraplegic Marine is di...   \n",
       "1     Captain Barbossa, long believed to be dead, ha...   \n",
       "2     A cryptic message from Bond’s past sends him o...   \n",
       "3     Following the death of District Attorney Harve...   \n",
       "4     John Carter is a war-weary, former military ca...   \n",
       "...                                                 ...   \n",
       "4804  El Mariachi just wants to play his guitar and ...   \n",
       "4805  A newlywed couple's honeymoon is upended by th...   \n",
       "4806  \"Signed, Sealed, Delivered\" introduces a dedic...   \n",
       "4807  When ambitious New York attorney Sam is sent t...   \n",
       "4808  Ever since the second grade when he first saw ...   \n",
       "\n",
       "                                         title  \\\n",
       "0                                       Avatar   \n",
       "1     Pirates of the Caribbean: At World's End   \n",
       "2                                      Spectre   \n",
       "3                        The Dark Knight Rises   \n",
       "4                                  John Carter   \n",
       "...                                        ...   \n",
       "4804                               El Mariachi   \n",
       "4805                                 Newlyweds   \n",
       "4806                 Signed, Sealed, Delivered   \n",
       "4807                          Shanghai Calling   \n",
       "4808                         My Date with Drew   \n",
       "\n",
       "                                                cast                crew  \n",
       "0      [samworthington, zoesaldana, sigourneyweaver]      [jamescameron]  \n",
       "1         [johnnydepp, orlandobloom, keiraknightley]     [goreverbinski]  \n",
       "2          [danielcraig, christophwaltz, léaseydoux]         [sammendes]  \n",
       "3          [christianbale, michaelcaine, garyoldman]  [christophernolan]  \n",
       "4        [taylorkitsch, lynncollins, samanthamorton]     [andrewstanton]  \n",
       "...                                              ...                 ...  \n",
       "4804  [carlosgallardo, jaimedehoyos, petermarquardt]   [robertrodriguez]  \n",
       "4805       [edwardburns, kerrybishé, marshadietlein]       [edwardburns]  \n",
       "4806         [ericmabius, kristinbooth, crystallowe]        [scottsmith]  \n",
       "4807          [danielhenney, elizacoupe, billpaxton]        [danielhsia]  \n",
       "4808  [drewbarrymore, brianherzlinger, coreyfeldman]   [brianherzlinger]  \n",
       "\n",
       "[4809 rows x 6 columns]"
      ]
     },
     "execution_count": 34,
     "metadata": {},
     "output_type": "execute_result"
    }
   ],
   "source": [
    "data"
   ]
  },
  {
   "cell_type": "code",
   "execution_count": 35,
   "metadata": {},
   "outputs": [],
   "source": [
    "data.overview=data.overview.str.split()"
   ]
  },
  {
   "cell_type": "code",
   "execution_count": 36,
   "metadata": {},
   "outputs": [
    {
     "data": {
      "text/html": [
       "<div>\n",
       "<style scoped>\n",
       "    .dataframe tbody tr th:only-of-type {\n",
       "        vertical-align: middle;\n",
       "    }\n",
       "\n",
       "    .dataframe tbody tr th {\n",
       "        vertical-align: top;\n",
       "    }\n",
       "\n",
       "    .dataframe thead th {\n",
       "        text-align: right;\n",
       "    }\n",
       "</style>\n",
       "<table border=\"1\" class=\"dataframe\">\n",
       "  <thead>\n",
       "    <tr style=\"text-align: right;\">\n",
       "      <th></th>\n",
       "      <th>genres</th>\n",
       "      <th>keywords</th>\n",
       "      <th>overview</th>\n",
       "      <th>title</th>\n",
       "      <th>cast</th>\n",
       "      <th>crew</th>\n",
       "    </tr>\n",
       "  </thead>\n",
       "  <tbody>\n",
       "    <tr>\n",
       "      <th>0</th>\n",
       "      <td>[action, adventure, fantasy, sciencefiction]</td>\n",
       "      <td>[cultureclash, future, spacewar, spacecolony, ...</td>\n",
       "      <td>[In, the, 22nd, century,, a, paraplegic, Marin...</td>\n",
       "      <td>Avatar</td>\n",
       "      <td>[samworthington, zoesaldana, sigourneyweaver]</td>\n",
       "      <td>[jamescameron]</td>\n",
       "    </tr>\n",
       "    <tr>\n",
       "      <th>1</th>\n",
       "      <td>[adventure, fantasy, action]</td>\n",
       "      <td>[ocean, drugabuse, exoticisland, eastindiatrad...</td>\n",
       "      <td>[Captain, Barbossa,, long, believed, to, be, d...</td>\n",
       "      <td>Pirates of the Caribbean: At World's End</td>\n",
       "      <td>[johnnydepp, orlandobloom, keiraknightley]</td>\n",
       "      <td>[goreverbinski]</td>\n",
       "    </tr>\n",
       "    <tr>\n",
       "      <th>2</th>\n",
       "      <td>[action, adventure, crime]</td>\n",
       "      <td>[spy, basedonnovel, secretagent, sequel, mi6, ...</td>\n",
       "      <td>[A, cryptic, message, from, Bond’s, past, send...</td>\n",
       "      <td>Spectre</td>\n",
       "      <td>[danielcraig, christophwaltz, léaseydoux]</td>\n",
       "      <td>[sammendes]</td>\n",
       "    </tr>\n",
       "    <tr>\n",
       "      <th>3</th>\n",
       "      <td>[action, crime, drama, thriller]</td>\n",
       "      <td>[dccomics, crimefighter, terrorist, secretiden...</td>\n",
       "      <td>[Following, the, death, of, District, Attorney...</td>\n",
       "      <td>The Dark Knight Rises</td>\n",
       "      <td>[christianbale, michaelcaine, garyoldman]</td>\n",
       "      <td>[christophernolan]</td>\n",
       "    </tr>\n",
       "    <tr>\n",
       "      <th>4</th>\n",
       "      <td>[action, adventure, sciencefiction]</td>\n",
       "      <td>[basedonnovel, mars, medallion, spacetravel, p...</td>\n",
       "      <td>[John, Carter, is, a, war-weary,, former, mili...</td>\n",
       "      <td>John Carter</td>\n",
       "      <td>[taylorkitsch, lynncollins, samanthamorton]</td>\n",
       "      <td>[andrewstanton]</td>\n",
       "    </tr>\n",
       "  </tbody>\n",
       "</table>\n",
       "</div>"
      ],
      "text/plain": [
       "                                         genres  \\\n",
       "0  [action, adventure, fantasy, sciencefiction]   \n",
       "1                  [adventure, fantasy, action]   \n",
       "2                    [action, adventure, crime]   \n",
       "3              [action, crime, drama, thriller]   \n",
       "4           [action, adventure, sciencefiction]   \n",
       "\n",
       "                                            keywords  \\\n",
       "0  [cultureclash, future, spacewar, spacecolony, ...   \n",
       "1  [ocean, drugabuse, exoticisland, eastindiatrad...   \n",
       "2  [spy, basedonnovel, secretagent, sequel, mi6, ...   \n",
       "3  [dccomics, crimefighter, terrorist, secretiden...   \n",
       "4  [basedonnovel, mars, medallion, spacetravel, p...   \n",
       "\n",
       "                                            overview  \\\n",
       "0  [In, the, 22nd, century,, a, paraplegic, Marin...   \n",
       "1  [Captain, Barbossa,, long, believed, to, be, d...   \n",
       "2  [A, cryptic, message, from, Bond’s, past, send...   \n",
       "3  [Following, the, death, of, District, Attorney...   \n",
       "4  [John, Carter, is, a, war-weary,, former, mili...   \n",
       "\n",
       "                                      title  \\\n",
       "0                                    Avatar   \n",
       "1  Pirates of the Caribbean: At World's End   \n",
       "2                                   Spectre   \n",
       "3                     The Dark Knight Rises   \n",
       "4                               John Carter   \n",
       "\n",
       "                                            cast                crew  \n",
       "0  [samworthington, zoesaldana, sigourneyweaver]      [jamescameron]  \n",
       "1     [johnnydepp, orlandobloom, keiraknightley]     [goreverbinski]  \n",
       "2      [danielcraig, christophwaltz, léaseydoux]         [sammendes]  \n",
       "3      [christianbale, michaelcaine, garyoldman]  [christophernolan]  \n",
       "4    [taylorkitsch, lynncollins, samanthamorton]     [andrewstanton]  "
      ]
     },
     "execution_count": 36,
     "metadata": {},
     "output_type": "execute_result"
    }
   ],
   "source": [
    "data.head()"
   ]
  },
  {
   "cell_type": "code",
   "execution_count": 37,
   "metadata": {},
   "outputs": [
    {
     "name": "stderr",
     "output_type": "stream",
     "text": [
      "C:\\Users\\DELL\\AppData\\Local\\Temp\\ipykernel_7524\\1968075372.py:1: UserWarning: Pandas doesn't allow columns to be created via a new attribute name - see https://pandas.pydata.org/pandas-docs/stable/indexing.html#attribute-access\n",
      "  data.tags=data.genres+data.keywords+data.overview+data.cast+data.crew\n"
     ]
    }
   ],
   "source": [
    "data.tags=data.genres+data.keywords+data.overview+data.cast+data.crew"
   ]
  },
  {
   "cell_type": "code",
   "execution_count": 38,
   "metadata": {},
   "outputs": [
    {
     "data": {
      "text/plain": [
       "0       [action, adventure, fantasy, sciencefiction, c...\n",
       "1       [adventure, fantasy, action, ocean, drugabuse,...\n",
       "2       [action, adventure, crime, spy, basedonnovel, ...\n",
       "3       [action, crime, drama, thriller, dccomics, cri...\n",
       "4       [action, adventure, sciencefiction, basedonnov...\n",
       "                              ...                        \n",
       "4804    [action, crime, thriller, unitedstates–mexicob...\n",
       "4805    [comedy, romance, A, newlywed, couple's, honey...\n",
       "4806    [comedy, drama, romance, tvmovie, date, loveat...\n",
       "4807    [When, ambitious, New, York, attorney, Sam, is...\n",
       "4808    [documentary, obsession, camcorder, crush, dre...\n",
       "Length: 4809, dtype: object"
      ]
     },
     "execution_count": 38,
     "metadata": {},
     "output_type": "execute_result"
    }
   ],
   "source": [
    "data.tags"
   ]
  },
  {
   "cell_type": "code",
   "execution_count": 42,
   "metadata": {},
   "outputs": [],
   "source": [
    "data = pd.read_csv(r'kathford_mrs_csv')"
   ]
  },
  {
   "cell_type": "code",
   "execution_count": 43,
   "metadata": {},
   "outputs": [
    {
     "data": {
      "text/html": [
       "<div>\n",
       "<style scoped>\n",
       "    .dataframe tbody tr th:only-of-type {\n",
       "        vertical-align: middle;\n",
       "    }\n",
       "\n",
       "    .dataframe tbody tr th {\n",
       "        vertical-align: top;\n",
       "    }\n",
       "\n",
       "    .dataframe thead th {\n",
       "        text-align: right;\n",
       "    }\n",
       "</style>\n",
       "<table border=\"1\" class=\"dataframe\">\n",
       "  <thead>\n",
       "    <tr style=\"text-align: right;\">\n",
       "      <th></th>\n",
       "      <th>Unnamed: 0</th>\n",
       "      <th>title</th>\n",
       "      <th>tags</th>\n",
       "    </tr>\n",
       "  </thead>\n",
       "  <tbody>\n",
       "    <tr>\n",
       "      <th>0</th>\n",
       "      <td>0</td>\n",
       "      <td>avatar</td>\n",
       "      <td>22nd century paraplegic marine dispatched moon...</td>\n",
       "    </tr>\n",
       "    <tr>\n",
       "      <th>1</th>\n",
       "      <td>1</td>\n",
       "      <td>pirates of the caribbean: at world's end</td>\n",
       "      <td>captain barbossa long believed dead come back ...</td>\n",
       "    </tr>\n",
       "    <tr>\n",
       "      <th>2</th>\n",
       "      <td>2</td>\n",
       "      <td>spectre</td>\n",
       "      <td>cryptic message bond past sends trail uncover ...</td>\n",
       "    </tr>\n",
       "    <tr>\n",
       "      <th>3</th>\n",
       "      <td>3</td>\n",
       "      <td>the dark knight rises</td>\n",
       "      <td>following death district attorney harvey dent ...</td>\n",
       "    </tr>\n",
       "    <tr>\n",
       "      <th>4</th>\n",
       "      <td>4</td>\n",
       "      <td>john carter</td>\n",
       "      <td>john carter war weary former military captain ...</td>\n",
       "    </tr>\n",
       "  </tbody>\n",
       "</table>\n",
       "</div>"
      ],
      "text/plain": [
       "   Unnamed: 0                                     title  \\\n",
       "0           0                                    avatar   \n",
       "1           1  pirates of the caribbean: at world's end   \n",
       "2           2                                   spectre   \n",
       "3           3                     the dark knight rises   \n",
       "4           4                               john carter   \n",
       "\n",
       "                                                tags  \n",
       "0  22nd century paraplegic marine dispatched moon...  \n",
       "1  captain barbossa long believed dead come back ...  \n",
       "2  cryptic message bond past sends trail uncover ...  \n",
       "3  following death district attorney harvey dent ...  \n",
       "4  john carter war weary former military captain ...  "
      ]
     },
     "execution_count": 43,
     "metadata": {},
     "output_type": "execute_result"
    }
   ],
   "source": [
    "data.head()"
   ]
  },
  {
   "cell_type": "code",
   "execution_count": 44,
   "metadata": {},
   "outputs": [],
   "source": [
    "data.drop('Unnamed: 0',axis=1,inplace=True)"
   ]
  },
  {
   "cell_type": "code",
   "execution_count": 45,
   "metadata": {},
   "outputs": [
    {
     "data": {
      "text/html": [
       "<div>\n",
       "<style scoped>\n",
       "    .dataframe tbody tr th:only-of-type {\n",
       "        vertical-align: middle;\n",
       "    }\n",
       "\n",
       "    .dataframe tbody tr th {\n",
       "        vertical-align: top;\n",
       "    }\n",
       "\n",
       "    .dataframe thead th {\n",
       "        text-align: right;\n",
       "    }\n",
       "</style>\n",
       "<table border=\"1\" class=\"dataframe\">\n",
       "  <thead>\n",
       "    <tr style=\"text-align: right;\">\n",
       "      <th></th>\n",
       "      <th>title</th>\n",
       "      <th>tags</th>\n",
       "    </tr>\n",
       "  </thead>\n",
       "  <tbody>\n",
       "    <tr>\n",
       "      <th>0</th>\n",
       "      <td>avatar</td>\n",
       "      <td>22nd century paraplegic marine dispatched moon...</td>\n",
       "    </tr>\n",
       "    <tr>\n",
       "      <th>1</th>\n",
       "      <td>pirates of the caribbean: at world's end</td>\n",
       "      <td>captain barbossa long believed dead come back ...</td>\n",
       "    </tr>\n",
       "    <tr>\n",
       "      <th>2</th>\n",
       "      <td>spectre</td>\n",
       "      <td>cryptic message bond past sends trail uncover ...</td>\n",
       "    </tr>\n",
       "    <tr>\n",
       "      <th>3</th>\n",
       "      <td>the dark knight rises</td>\n",
       "      <td>following death district attorney harvey dent ...</td>\n",
       "    </tr>\n",
       "    <tr>\n",
       "      <th>4</th>\n",
       "      <td>john carter</td>\n",
       "      <td>john carter war weary former military captain ...</td>\n",
       "    </tr>\n",
       "  </tbody>\n",
       "</table>\n",
       "</div>"
      ],
      "text/plain": [
       "                                      title  \\\n",
       "0                                    avatar   \n",
       "1  pirates of the caribbean: at world's end   \n",
       "2                                   spectre   \n",
       "3                     the dark knight rises   \n",
       "4                               john carter   \n",
       "\n",
       "                                                tags  \n",
       "0  22nd century paraplegic marine dispatched moon...  \n",
       "1  captain barbossa long believed dead come back ...  \n",
       "2  cryptic message bond past sends trail uncover ...  \n",
       "3  following death district attorney harvey dent ...  \n",
       "4  john carter war weary former military captain ...  "
      ]
     },
     "execution_count": 45,
     "metadata": {},
     "output_type": "execute_result"
    }
   ],
   "source": [
    "data.head()"
   ]
  },
  {
   "cell_type": "code",
   "execution_count": 46,
   "metadata": {},
   "outputs": [],
   "source": [
    "# Vectorizing and removing stop words\n",
    "from sklearn.feature_extraction.text import CountVectorizer\n",
    "cv = CountVectorizer(max_features = 5000, stop_words='english')"
   ]
  },
  {
   "cell_type": "code",
   "execution_count": 47,
   "metadata": {},
   "outputs": [],
   "source": [
    "vector = cv.fit_transform(data['tags']).toarray()"
   ]
  },
  {
   "cell_type": "code",
   "execution_count": 49,
   "metadata": {},
   "outputs": [
    {
     "data": {
      "text/plain": [
       "array([[0, 0, 0, ..., 0, 0, 0],\n",
       "       [0, 0, 0, ..., 0, 0, 0],\n",
       "       [0, 0, 0, ..., 0, 0, 0],\n",
       "       ...,\n",
       "       [0, 0, 0, ..., 0, 0, 0],\n",
       "       [0, 0, 0, ..., 0, 0, 0],\n",
       "       [0, 0, 0, ..., 0, 0, 0]], dtype=int64)"
      ]
     },
     "execution_count": 49,
     "metadata": {},
     "output_type": "execute_result"
    }
   ],
   "source": [
    "vector\n"
   ]
  },
  {
   "cell_type": "code",
   "execution_count": 50,
   "metadata": {},
   "outputs": [],
   "source": [
    "# find Cosine similarity\n",
    "from sklearn.metrics.pairwise import cosine_similarity"
   ]
  },
  {
   "cell_type": "code",
   "execution_count": 51,
   "metadata": {},
   "outputs": [],
   "source": [
    "similarity = cosine_similarity(vector)"
   ]
  },
  {
   "cell_type": "code",
   "execution_count": 52,
   "metadata": {},
   "outputs": [],
   "source": [
    "def recommend(movie):\n",
    "    index = data[data['title'] == movie].index[0] # yo chai euta mpvie ko lagi more than one review hunda euta choose garna ko lagi ho \n",
    "    distances = sorted(list(enumerate(similarity[index])),reverse = True, key = lambda x: x[1])\n",
    "    for i in distances[1:6]:\n",
    "        print(data.iloc[i[0]].title)"
   ]
  },
  {
   "cell_type": "code",
   "execution_count": 53,
   "metadata": {},
   "outputs": [
    {
     "data": {
      "text/plain": [
       "title\n",
       "out of the blue       4\n",
       "the host              4\n",
       "batman                4\n",
       "undiscovered          1\n",
       "beneath hill 60       1\n",
       "                     ..\n",
       "secondhand lions      1\n",
       "the age of adaline    1\n",
       "drag me to hell       1\n",
       "southpaw              1\n",
       "my date with drew     1\n",
       "Name: count, Length: 4797, dtype: int64"
      ]
     },
     "execution_count": 53,
     "metadata": {},
     "output_type": "execute_result"
    }
   ],
   "source": [
    "data.title.value_counts()"
   ]
  },
  {
   "cell_type": "code",
   "execution_count": 54,
   "metadata": {},
   "outputs": [
    {
     "name": "stdout",
     "output_type": "stream",
     "text": [
      "batman\n",
      "batman & robin\n",
      "batman returns\n",
      "batman begins\n",
      "the dark knight rises\n"
     ]
    }
   ],
   "source": [
    "recommend('batman')"
   ]
  },
  {
   "cell_type": "code",
   "execution_count": 55,
   "metadata": {},
   "outputs": [],
   "source": [
    "import pickle"
   ]
  },
  {
   "cell_type": "code",
   "execution_count": 57,
   "metadata": {},
   "outputs": [],
   "source": [
    "pickle.dump(data,open('movie_list.pkl','wb'))\n",
    "pickle.dump(similarity,open('similarity.pkl','wb'))"
   ]
  },
  {
   "cell_type": "code",
   "execution_count": null,
   "metadata": {},
   "outputs": [
    {
     "ename": "",
     "evalue": "",
     "output_type": "error",
     "traceback": [
      "\u001b[1;31mRunning cells with 'Python 3.12.3' requires the ipykernel package.\n",
      "\u001b[1;31mRun the following command to install 'ipykernel' into the Python environment. \n",
      "\u001b[1;31mCommand: 'c:/Users/DELL/AppData/Local/Programs/Python/Python312/python.exe -m pip install ipykernel -U --user --force-reinstall'"
     ]
    }
   ],
   "source": [
    "data = pickle.load(open('movie_list.pkl', 'rb'))\n",
    "similarity = pickle.load(open('similarity.pkl', 'rb'))"
   ]
  },
  {
   "cell_type": "code",
   "execution_count": null,
   "metadata": {},
   "outputs": [],
   "source": []
  }
 ],
 "metadata": {
  "kernelspec": {
   "display_name": "Python 3",
   "language": "python",
   "name": "python3"
  },
  "language_info": {
   "codemirror_mode": {
    "name": "ipython",
    "version": 3
   },
   "file_extension": ".py",
   "mimetype": "text/x-python",
   "name": "python",
   "nbconvert_exporter": "python",
   "pygments_lexer": "ipython3",
   "version": "3.12.3"
  }
 },
 "nbformat": 4,
 "nbformat_minor": 4
}
